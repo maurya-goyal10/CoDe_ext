{
 "cells": [
  {
   "cell_type": "code",
   "execution_count": 10,
   "metadata": {},
   "outputs": [],
   "source": [
    "import torch\n",
    "from PIL import Image\n",
    "from pathlib import Path\n",
    "import numpy as np"
   ]
  },
  {
   "cell_type": "code",
   "execution_count": 37,
   "metadata": {},
   "outputs": [],
   "source": [
    "target_dir = [x for x in Path(\"/home/anujinho/PhD_GuidedDiff/BoN/assets/face_data/celeb\").iterdir() if x.is_file()]\n",
    "loaded_images = np.concatenate([np.array(Image.open(fp=target_img))[np.newaxis] for idx, target_img in enumerate(target_dir)])\n",
    "loaded_images = [Image.fromarray(img) for img in loaded_images]"
   ]
  },
  {
   "cell_type": "code",
   "execution_count": null,
   "metadata": {},
   "outputs": [],
   "source": []
  },
  {
   "cell_type": "code",
   "execution_count": 39,
   "metadata": {},
   "outputs": [
    {
     "data": {
      "text/plain": [
       "[<PIL.Image.Image image mode=RGB size=256x256>,\n",
       " <PIL.Image.Image image mode=RGB size=256x256>,\n",
       " <PIL.Image.Image image mode=RGB size=256x256>]"
      ]
     },
     "execution_count": 39,
     "metadata": {},
     "output_type": "execute_result"
    }
   ],
   "source": [
    "loaded_images"
   ]
  }
 ],
 "metadata": {
  "kernelspec": {
   "display_name": "diffdift",
   "language": "python",
   "name": "python3"
  },
  "language_info": {
   "codemirror_mode": {
    "name": "ipython",
    "version": 3
   },
   "file_extension": ".py",
   "mimetype": "text/x-python",
   "name": "python",
   "nbconvert_exporter": "python",
   "pygments_lexer": "ipython3",
   "version": "3.12.2"
  }
 },
 "nbformat": 4,
 "nbformat_minor": 2
}
