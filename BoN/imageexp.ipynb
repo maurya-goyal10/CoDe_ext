{
 "cells": [
  {
   "cell_type": "code",
   "execution_count": 1,
   "metadata": {},
   "outputs": [
    {
     "ename": "ModuleNotFoundError",
     "evalue": "No module named 'torch'",
     "output_type": "error",
     "traceback": [
      "\u001b[0;31m---------------------------------------------------------------------------\u001b[0m",
      "\u001b[0;31mModuleNotFoundError\u001b[0m                       Traceback (most recent call last)",
      "Cell \u001b[0;32mIn[1], line 3\u001b[0m\n\u001b[1;32m      1\u001b[0m \u001b[38;5;28;01mimport\u001b[39;00m \u001b[38;5;21;01mcopy\u001b[39;00m\n\u001b[1;32m      2\u001b[0m \u001b[38;5;28;01mimport\u001b[39;00m \u001b[38;5;21;01mjson\u001b[39;00m\n\u001b[0;32m----> 3\u001b[0m \u001b[38;5;28;01mimport\u001b[39;00m \u001b[38;5;21;01mtorch\u001b[39;00m\n\u001b[1;32m      4\u001b[0m \u001b[38;5;28;01mimport\u001b[39;00m \u001b[38;5;21;01mwarnings\u001b[39;00m\n\u001b[1;32m      5\u001b[0m \u001b[38;5;28;01mimport\u001b[39;00m \u001b[38;5;21;01mtorchvision\u001b[39;00m\n",
      "\u001b[0;31mModuleNotFoundError\u001b[0m: No module named 'torch'"
     ]
    }
   ],
   "source": [
    "import copy\n",
    "import json\n",
    "import torch\n",
    "import warnings\n",
    "import torchvision\n",
    "import numpy as np\n",
    "import pandas as pd\n",
    "import seaborn as sns\n",
    "import torch.nn as nn\n",
    "import matplotlib.pyplot as plt\n",
    "import torch.distributions as D\n",
    "import torch.nn.functional as F\n",
    "\n",
    "from pathlib import Path\n",
    "from tqdm.auto import tqdm\n",
    "from torchvision import transforms\n",
    "from sklearn.manifold import TSNE\n",
    "# from torchvision.datasets import MNIST\n",
    "from torch.utils.data import TensorDataset, DataLoader\n",
    "\n",
    "warnings.filterwarnings('ignore')\n"
   ]
  },
  {
   "cell_type": "code",
   "execution_count": 2,
   "metadata": {},
   "outputs": [],
   "source": [
    "# @title Set random seed\n",
    "\n",
    "# @markdown Executing `set_seed(seed=seed)` you are setting the seed\n",
    "\n",
    "# For DL its critical to set the random seed so that students can have a\n",
    "# baseline to compare their results to expected results.\n",
    "# Read more here: https://pytorch.org/docs/stable/notes/randomness.html\n",
    "\n",
    "# Call `set_seed` function in the exercises to ensure reproducibility.\n",
    "import random\n",
    "import torch\n",
    "\n",
    "def set_seed(seed=None, seed_torch=True):\n",
    "  \"\"\"\n",
    "  Function that controls randomness. NumPy and random modules must be imported.\n",
    "\n",
    "  Args:\n",
    "    seed : Integer\n",
    "      A non-negative integer that defines the random state. Default is `None`.\n",
    "    seed_torch : Boolean\n",
    "      If `True` sets the random seed for pytorch tensors, so pytorch module\n",
    "      must be imported. Default is `True`.\n",
    "\n",
    "  Returns:\n",
    "    Nothing.\n",
    "  \"\"\"\n",
    "  if seed is None:\n",
    "    seed = np.random.choice(2 ** 32)\n",
    "  random.seed(seed)\n",
    "  np.random.seed(seed)\n",
    "  if seed_torch:\n",
    "    torch.manual_seed(seed)\n",
    "    torch.cuda.manual_seed_all(seed)\n",
    "    torch.cuda.manual_seed(seed)\n",
    "    torch.backends.cudnn.benchmark = False\n",
    "    torch.backends.cudnn.deterministic = True\n",
    "\n",
    "  print(f'Random seed {seed} has been set.')\n",
    "\n",
    "\n",
    "# In case that `DataLoader` is used\n",
    "def seed_worker(worker_id):\n",
    "  \"\"\"\n",
    "  DataLoader will reseed workers following randomness in\n",
    "  multi-process data loading algorithm.\n",
    "\n",
    "  Args:\n",
    "    worker_id: integer\n",
    "      ID of subprocess to seed. 0 means that\n",
    "      the data will be loaded in the main process\n",
    "      Refer: https://pytorch.org/docs/stable/data.html#data-loading-randomness for more details\n",
    "\n",
    "  Returns:\n",
    "    Nothing\n",
    "  \"\"\"\n",
    "  worker_seed = torch.initial_seed() % 2**32\n",
    "  np.random.seed(worker_seed)\n",
    "  random.seed(worker_seed)"
   ]
  },
  {
   "cell_type": "code",
   "execution_count": 3,
   "metadata": {},
   "outputs": [
    {
     "name": "stdout",
     "output_type": "stream",
     "text": [
      "Random seed 2024 has been set.\n"
     ]
    }
   ],
   "source": [
    "set_seed(2024)"
   ]
  },
  {
   "cell_type": "code",
   "execution_count": 4,
   "metadata": {},
   "outputs": [],
   "source": [
    "OUTPUTS_DIR = Path('/glb/data/ptxd_dash/nlasqh/PhD_GuidedDiff/BoN/outputs')\n",
    "\n",
    "if not Path.exists(Path(OUTPUTS_DIR)):\n",
    "    Path.mkdir(Path(OUTPUTS_DIR), exist_ok=True, parents=True)\n",
    "\n",
    "if torch.cuda.is_available():\n",
    "    DEVICE = 'cuda'\n",
    "else:\n",
    "    DEVICE = 'cpu'"
   ]
  },
  {
   "cell_type": "code",
   "execution_count": 5,
   "metadata": {},
   "outputs": [
    {
     "data": {
      "text/plain": [
       "'cuda'"
      ]
     },
     "execution_count": 5,
     "metadata": {},
     "output_type": "execute_result"
    }
   ],
   "source": [
    "DEVICE"
   ]
  },
  {
   "cell_type": "code",
   "execution_count": 6,
   "metadata": {},
   "outputs": [
    {
     "data": {
      "text/plain": [
       "PosixPath('/glb/data/ptxd_dash/nlasqh/PhD_GuidedDiff/BoN/outputs')"
      ]
     },
     "execution_count": 6,
     "metadata": {},
     "output_type": "execute_result"
    }
   ],
   "source": [
    "OUTPUTS_DIR"
   ]
  },
  {
   "cell_type": "code",
   "execution_count": null,
   "metadata": {},
   "outputs": [
    {
     "name": "stdout",
     "output_type": "stream",
     "text": [
      "code5_b20_facedetector\n",
      "code100_b20_facedetector\n",
      "code5_b50_facedetector\n",
      "code100_b50_facedetector\n",
      "code5_b100_facedetector\n",
      "code100_b100_facedetector\n",
      "c_code100_b5_r5_facedetector\n",
      "c_code100_b5_r6_facedetector\n",
      "c_code100_b5_r8_facedetector\n",
      "c_code100_b20_r5_facedetector\n",
      "c_code100_b20_r6_facedetector\n",
      "c_code100_b20_r7_facedetector\n",
      "c_code100_b20_r8_facedetector\n",
      "c_code100_b50_r5_facedetector\n",
      "c_code100_b50_r6_facedetector\n",
      "c_code100_b50_r7_facedetector\n",
      "c_code100_b50_r8_facedetector\n",
      "c_code100_b100_r5_facedetector\n",
      "c_code100_b100_r6_facedetector\n",
      "c_code100_b100_r7_facedetector\n",
      "c_code100_b100_r8_facedetector\n",
      "dps\n",
      "code5_b1_facedetector\n",
      "code100_b1_facedetector\n"
     ]
    }
   ],
   "source": [
    "with open(OUTPUTS_DIR.joinpath('scorers/perf_updated_clip_v2.json'),'r') as fp:\n",
    "    results_code = json.load(fp)\n",
    "\n",
    "with open(OUTPUTS_DIR.joinpath('scorers/perf_updated.json'),'r') as fp:\n",
    "    results_uncond = json.load(fp)\n",
    "\n",
    "with open(OUTPUTS_DIR.joinpath('scorers/perf_ccode_dps_bon_svdd_code100_clip_ref_updated_v3.json'),'r') as fp:\n",
    "    results_ccode_dps_bon = json.load(fp)\n",
    "\n",
    "with open(OUTPUTS_DIR.joinpath('scorers/perf_ug_clip_ref_updated.json'),'r') as fp:\n",
    "    results_ug = json.load(fp)\n",
    "\n",
    "with open(OUTPUTS_DIR.joinpath('scorers/target_divergences.json'),'r') as fp:\n",
    "    results_uncond_refdivs = json.load(fp)\n",
    "\n",
    "with open(OUTPUTS_DIR.joinpath('scorers/perf_gram.json'),'r') as fp:\n",
    "    results_code_gram = json.load(fp)\n",
    "\n",
    "with open(OUTPUTS_DIR.joinpath('scorers/perf_gram_ug.json'),'r') as fp:\n",
    "    results_ug_gram = json.load(fp)\n",
    "\n",
    "with open(OUTPUTS_DIR.joinpath('scorers/perf_gram_bon_dps_code_ccode_svdd.json'),'r') as fp:\n",
    "    results_ccode_dps_bon_gram = json.load(fp)\n",
    "\n",
    "with open(OUTPUTS_DIR.joinpath('scorers/perf_i2i.json'),'r') as fp:\n",
    "    results_sdedit = json.load(fp)\n",
    "\n",
    "with open(OUTPUTS_DIR.joinpath('scorers/perf_i2i_gram.json'),'r') as fp:\n",
    "    results_sdedit_gram = json.load(fp)\n",
    "\n",
    "with open(OUTPUTS_DIR.joinpath('scorers/perf_cbon.json'),'r') as fp:\n",
    "    results_cbon = json.load(fp)\n",
    "\n",
    "with open(OUTPUTS_DIR.joinpath('scorers/perf_cbon_gram.json'),'r') as fp:\n",
    "    results_cbon_gram = json.load(fp)\n",
    "\n",
    "with open(OUTPUTS_DIR.joinpath('scorers/perf_cbon_clipscore.json'),'r') as fp:\n",
    "    results_cbon_clip = json.load(fp)\n",
    "\n",
    "with open(OUTPUTS_DIR.joinpath('scorers/perf_cug.json'),'r') as fp:\n",
    "    results_cug = json.load(fp)\n",
    "\n",
    "with open(OUTPUTS_DIR.joinpath('scorers/perf_gram_cug.json'),'r') as fp:\n",
    "    results_cug_gram = json.load(fp)\n",
    "\n",
    "with open(OUTPUTS_DIR.joinpath('scorers/perf_gram_cug.json'),'r') as fp:\n",
    "    results_gram_faces = json.load(fp)\n",
    "\n",
    "with open(OUTPUTS_DIR.joinpath('scorers/perf_gram_faces_bests.json'),'r') as fp:\n",
    "    results_gram_faces_uncond = json.load(fp)\n",
    "\n",
    "with open(OUTPUTS_DIR.joinpath('scorers/perf_cug_refdivs.json'),'r') as fp:\n",
    "    results_cug_refdivs = json.load(fp)\n",
    "\n",
    "with open(OUTPUTS_DIR.joinpath('scorers/perf_cbon_refdivs.json'),'r') as fp:\n",
    "    results_cbon_refdivs = json.load(fp)\n",
    "\n",
    "\n",
    "\n",
    "_METHODS = {\n",
    "    'CoDe (Ours)' : 'code',\n",
    "    'C-CoDe (Ours)' : 'c_code',\n",
    "    'BoN' : 'bon',\n",
    "    'C-BoN' : 'c_bon',\n",
    "    'DPS (Chung, 2023)' : 'grad',\n",
    "    'SDEdit': 'i2i',\n",
    "    'SVDD-PM (Li, 2024)' : 'code',\n",
    "    'C-SVDD-PM (Li, 2024)' : 'c_code',\n",
    "    'UG (Bansal, 2024)': 'test',\n",
    "    'C-UG': 'test_i2i'\n",
    "}\n",
    "\n",
    "task = \"styletransfer\" # \"facedetector\" # \n",
    "\n",
    "plot_results = {\n",
    "    'method': [],\n",
    "    'exp_rew': [],\n",
    "    'win_rate': [],\n",
    "    'fid': [],\n",
    "    'cmmd': [],\n",
    "    'clipscore': [],\n",
    "    'clipwinrate': [],\n",
    "    'gram': [],\n",
    "    'ref_fid': [],\n",
    "    'ref_cmmd': [],\n",
    "    'param': []\n",
    "}\n",
    "\n",
    "uncond_rewards = {\n",
    "    'facedetector': {\n",
    "        'exp_rew': results_uncond['uncond2_facedetector']['exp_rew'],\n",
    "        'win_rate': results_uncond['uncond2_facedetector']['win_rate'],\n",
    "        'fid': results_uncond['uncond2_facedetector']['fid'],\n",
    "        'cmmd': results_uncond['uncond2_facedetector']['cmmd'],\n",
    "        'clipscore': results_uncond['uncond_facedetector']['clipscore'],\n",
    "        'gram': results_gram_faces_uncond['uncond_facedetector'],\n",
    "        'ref_fid': [],\n",
    "        'ref_cmmd': [],\n",
    "    },\n",
    "    'styletransfer': {\n",
    "        'exp_rew': results_uncond['uncond2_styletransfer']['exp_rew'],\n",
    "        'win_rate': results_uncond['uncond2_styletransfer']['win_rate'],\n",
    "        'fid': results_uncond['uncond2_styletransfer']['fid'],\n",
    "        'cmmd': results_uncond['uncond2_styletransfer']['cmmd'],\n",
    "        'clipscore': results_uncond['uncond_styletransfer']['clipscore'],\n",
    "        'gram': results_ccode_dps_bon_gram['uncond_styletransfer']['exp_rew'],\n",
    "        'ref_fid': [],\n",
    "        'ref_cmmd': [],\n",
    "    }\n",
    "\n",
    "}\n",
    "\n",
    "for curr_task in uncond_rewards.keys():\n",
    "    for key in results_uncond_refdivs[curr_task].keys():\n",
    "        uncond_rewards[curr_task]['ref_fid'].append(results_uncond_refdivs[curr_task][key]['fid'])\n",
    "        uncond_rewards[curr_task]['ref_cmmd'].append(results_uncond_refdivs[curr_task][key]['cmmd'])\n",
    "\n",
    "    uncond_rewards[curr_task]['ref_fid'] = sum(uncond_rewards[curr_task]['ref_fid'])/len(uncond_rewards[curr_task]['ref_fid'])\n",
    "    uncond_rewards[curr_task]['ref_cmmd'] = sum(uncond_rewards[curr_task]['ref_cmmd'])/len(uncond_rewards[curr_task]['ref_cmmd'])\n",
    "\n",
    "# print(uncond_rewards)\n",
    "\n",
    "connect_start = True\n",
    "\n",
    "# if not connect_start:\n",
    "plot_results['method'].append('SDv1.5')\n",
    "plot_results['exp_rew'].append(uncond_rewards[task]['exp_rew'])\n",
    "plot_results['win_rate'].append(0.5)\n",
    "plot_results['fid'].append(uncond_rewards[task]['fid'])\n",
    "plot_results['cmmd'].append(uncond_rewards[task]['cmmd'])\n",
    "plot_results['clipscore'].append(uncond_rewards[task]['clipscore'])\n",
    "plot_results['clipwinrate'].append(0.5)\n",
    "if task == 'styletransfer':\n",
    "    plot_results['gram'].append(uncond_rewards[task]['gram'])\n",
    "plot_results['ref_fid'].append(uncond_rewards[task]['ref_fid'])\n",
    "plot_results['ref_cmmd'].append(uncond_rewards[task]['ref_cmmd'])\n",
    "plot_results['param'].append('')\n",
    "\n",
    "for method in _METHODS.keys():\n",
    "\n",
    "    if method == 'CoDe (Ours)':\n",
    "\n",
    "        for bsize in [5,20,50,100]:\n",
    "\n",
    "            curr_method = f'{method} [block {bsize}]'\n",
    "\n",
    "            if connect_start:\n",
    "                plot_results['method'].append(curr_method)\n",
    "                plot_results['exp_rew'].append(uncond_rewards[task]['exp_rew'])\n",
    "                plot_results['win_rate'].append(0.5)\n",
    "                plot_results['fid'].append(uncond_rewards[task]['fid'])\n",
    "                plot_results['cmmd'].append(uncond_rewards[task]['cmmd'])\n",
    "                plot_results['ref_fid'].append(uncond_rewards[task]['ref_fid'])\n",
    "                plot_results['ref_cmmd'].append(uncond_rewards[task]['ref_cmmd'])\n",
    "                plot_results['clipscore'].append(uncond_rewards[task]['clipscore'])\n",
    "                if task == 'styletransfer':\n",
    "                    plot_results['gram'].append(uncond_rewards[task]['gram'])\n",
    "                plot_results['clipwinrate'].append(0.5)\n",
    "                plot_results['param'].append('')\n",
    "\n",
    "            for n_val in [5,10,20,30,40,100]: # 5,10,20,30,40,100\n",
    "\n",
    "                # if task == 'styletransfer' and n_val in [30, 40]:\n",
    "                #     continue\n",
    "                # elif task == 'facedetector' and n_val in [20, 40]:\n",
    "                #     continue\n",
    "\n",
    "                key = f'{_METHODS[method]}{n_val}_b{bsize}_{task}'\n",
    "                source = results_ccode_dps_bon if 'code100_' in key else results_code\n",
    "                gram_source = results_ccode_dps_bon_gram if 'code100_' in key else results_code_gram\n",
    "\n",
    "                if key not in source.keys():\n",
    "                    print(key)\n",
    "                    continue\n",
    "\n",
    "                if 'exp_rew' not in source[key].keys():\n",
    "                    continue\n",
    "\n",
    "                if 'ref_fid' not in source[key].keys():\n",
    "                    continue\n",
    "                \n",
    "                plot_results['method'].append(curr_method)\n",
    "\n",
    "                if task == 'facedetector':\n",
    "                    plot_results['exp_rew'].append(source[key]['exp_rew'])\n",
    "                else:\n",
    "                    plot_results['exp_rew'].append(source[key]['exp_rew'])\n",
    "\n",
    "                plot_results['win_rate'].append(source[key]['win_rate'])\n",
    "                plot_results['fid'].append(source[key]['fid'])\n",
    "                plot_results['cmmd'].append(source[key]['cmmd'])\n",
    "                if task == 'styletransfer':\n",
    "                    plot_results['gram'].append(gram_source[key]['exp_rew'])\n",
    "                plot_results['clipscore'].append(source[key]['clipscore'])\n",
    "                plot_results['clipwinrate'].append(source[key]['clipwinrate'])\n",
    "                plot_results['ref_fid'].append(source[key]['ref_fid'])\n",
    "                plot_results['ref_cmmd'].append(source[key]['ref_cmmd'])\n",
    "                plot_results['param'].append(f'{n_val}_b{bsize}')\n",
    "\n",
    "        \n",
    "        # for n_val in np.arange(20,50,10):\n",
    "\n",
    "        #     curr_method = f'{method} [N {n_val}]'\n",
    "\n",
    "        #     if connect_start:\n",
    "        #         plot_results['method'].append(curr_method)\n",
    "        #         plot_results['exp_rew'].append(uncond_rewards[task]['exp_rew'])\n",
    "        #         plot_results['win_rate'].append(uncond_rewards[task]['win_rate'])\n",
    "        #         plot_results['fid'].append(uncond_rewards[task]['fid'])\n",
    "        #         plot_results['cmmd'].append(uncond_rewards[task]['cmmd'])\n",
    "        #         plot_results['clipscore'].append(uncond_rewards[task]['clipscore'])\n",
    "        #         plot_results['param'].append('')\n",
    "\n",
    "        #     for bsize in [5,20,50,100]:\n",
    "\n",
    "        #         # if task == 'styletransfer' and n_val in [30, 40]:\n",
    "        #         #     continue\n",
    "        #         # elif task == 'facedetector' and n_val in [40]:\n",
    "        #         #     continue\n",
    "\n",
    "        #         key = f'{_METHODS[method]}{n_val}_b{bsize}_{task}'\n",
    "        #         if key not in results_code.keys():\n",
    "        #             print(key)\n",
    "        #             continue\n",
    "\n",
    "        #         if 'exp_rew' not in results_code[key].keys():\n",
    "        #             continue\n",
    "                \n",
    "        #         plot_results['method'].append(curr_method)\n",
    "\n",
    "        #         if task == 'facedetector':\n",
    "        #             plot_results['exp_rew'].append(results_code[key]['exp_rew'])\n",
    "        #         else:\n",
    "        #             plot_results['exp_rew'].append(results_code[key]['exp_rew'])\n",
    "\n",
    "        #         plot_results['win_rate'].append(results_code[key]['win_rate'])\n",
    "        #         plot_results['fid'].append(results_code[key]['fid'])\n",
    "        #         plot_results['cmmd'].append(results_code[key]['cmmd'])\n",
    "        #         plot_results['clipscore'].append(results_code[key]['clipscore'])\n",
    "        #         plot_results['param'].append(f'{n_val}_b{bsize}')\n",
    "\n",
    "    elif method == 'SVDD-PM (Li, 2024)':\n",
    "\n",
    "        for bsize in [1]:\n",
    "\n",
    "            curr_method = f'{method}'\n",
    "\n",
    "            if connect_start:\n",
    "                plot_results['method'].append(curr_method)\n",
    "                plot_results['exp_rew'].append(uncond_rewards[task]['exp_rew'])\n",
    "                plot_results['win_rate'].append(0.5)\n",
    "                plot_results['fid'].append(uncond_rewards[task]['fid'])\n",
    "                plot_results['cmmd'].append(uncond_rewards[task]['cmmd'])\n",
    "                plot_results['ref_fid'].append(uncond_rewards[task]['ref_fid'])\n",
    "                plot_results['ref_cmmd'].append(uncond_rewards[task]['ref_cmmd'])\n",
    "                plot_results['clipscore'].append(uncond_rewards[task]['clipscore'])\n",
    "                plot_results['clipwinrate'].append(0.5)\n",
    "                if task == 'styletransfer':\n",
    "                    plot_results['gram'].append(uncond_rewards[task]['gram'])\n",
    "                plot_results['param'].append('')\n",
    "\n",
    "            for n_val in [5,10,20,30,40,100]:\n",
    "\n",
    "                # if task == 'styletransfer' and n_val in [30, 40]:\n",
    "                #     continue\n",
    "                # elif task == 'facedetector' and n_val in [20, 40]:\n",
    "                #     continue\n",
    "\n",
    "                key = f'{_METHODS[method]}{n_val}_b{bsize}_{task}'\n",
    "                if key not in results_ccode_dps_bon.keys():\n",
    "                    print(key)\n",
    "                    continue\n",
    "\n",
    "                if 'exp_rew' not in results_ccode_dps_bon[key].keys():\n",
    "                    continue\n",
    "\n",
    "                if 'ref_fid' not in results_ccode_dps_bon[key].keys():\n",
    "                    continue\n",
    "                \n",
    "                plot_results['method'].append(curr_method)\n",
    "\n",
    "                if task == 'facedetector':\n",
    "                    plot_results['exp_rew'].append(results_ccode_dps_bon[key]['exp_rew'])\n",
    "                else:\n",
    "                    plot_results['exp_rew'].append(results_ccode_dps_bon[key]['exp_rew'])\n",
    "\n",
    "                plot_results['win_rate'].append(results_ccode_dps_bon[key]['win_rate'])\n",
    "                plot_results['fid'].append(results_ccode_dps_bon[key]['fid'])\n",
    "                plot_results['cmmd'].append(results_ccode_dps_bon[key]['cmmd'])\n",
    "                if task == 'styletransfer':\n",
    "                    plot_results['gram'].append(results_ccode_dps_bon_gram[key]['exp_rew'])\n",
    "                plot_results['clipscore'].append(results_ccode_dps_bon[key]['clipscore'])\n",
    "                plot_results['clipwinrate'].append(results_ccode_dps_bon[key]['clipwinrate'])\n",
    "                plot_results['ref_fid'].append(results_ccode_dps_bon[key]['ref_fid'])\n",
    "                plot_results['ref_cmmd'].append(results_ccode_dps_bon[key]['ref_cmmd'])\n",
    "                plot_results['param'].append(f'{n_val}_b{bsize}')\n",
    "\n",
    "\n",
    "    elif method == 'C-SVDD-PM (Li, 2024)':\n",
    "\n",
    "        for bsize in [1]:\n",
    "\n",
    "            for strength in [5,6,7,8]:\n",
    "\n",
    "                curr_method = f'{method} [block {bsize} r {round(strength * 0.1, 1)}]'\n",
    "\n",
    "                if connect_start:\n",
    "                    plot_results['method'].append(curr_method)\n",
    "                    plot_results['exp_rew'].append(uncond_rewards[task]['exp_rew'])\n",
    "                    plot_results['win_rate'].append(0.5)\n",
    "                    plot_results['fid'].append(uncond_rewards[task]['fid'])\n",
    "                    plot_results['cmmd'].append(uncond_rewards[task]['cmmd'])\n",
    "                    plot_results['ref_fid'].append(uncond_rewards[task]['ref_fid'])\n",
    "                    plot_results['ref_cmmd'].append(uncond_rewards[task]['ref_cmmd'])\n",
    "                    if task == 'styletransfer':\n",
    "                        plot_results['gram'].append(uncond_rewards[task]['gram'])\n",
    "                    plot_results['clipscore'].append(uncond_rewards[task]['clipscore'])\n",
    "                    plot_results['clipwinrate'].append(0.5)\n",
    "                    plot_results['param'].append('')\n",
    "\n",
    "                for n_val in [5,10,20,30,40,100]:\n",
    "\n",
    "                    key = f'{_METHODS[method]}{n_val}_b{bsize}_r{strength}_{task}'\n",
    "                    if key not in results_ccode_dps_bon.keys():\n",
    "                        print(key)\n",
    "                        continue\n",
    "                    \n",
    "                    plot_results['method'].append(curr_method)\n",
    "\n",
    "                    if task == 'facedetector':\n",
    "                        plot_results['exp_rew'].append(results_ccode_dps_bon[key]['exp_rew'])\n",
    "                    else:\n",
    "                        plot_results['exp_rew'].append(results_ccode_dps_bon[key]['exp_rew'])\n",
    "\n",
    "                    plot_results['win_rate'].append(results_ccode_dps_bon[key]['win_rate'])\n",
    "                    plot_results['fid'].append(results_ccode_dps_bon[key]['fid'])\n",
    "                    plot_results['cmmd'].append(results_ccode_dps_bon[key]['cmmd'])\n",
    "                    if task == 'styletransfer':\n",
    "                        plot_results['gram'].append(results_ccode_dps_bon_gram[key]['exp_rew'])\n",
    "                    plot_results['clipscore'].append(results_ccode_dps_bon[key]['clipscore'])\n",
    "                    plot_results['clipwinrate'].append(results_ccode_dps_bon[key]['clipwinrate'])\n",
    "                    plot_results['ref_fid'].append(results_ccode_dps_bon[key]['ref_fid'])\n",
    "                    plot_results['ref_cmmd'].append(results_ccode_dps_bon[key]['ref_cmmd'])\n",
    "                    plot_results['param'].append(f'{n_val}_b{bsize}_r{strength}')\n",
    "\n",
    "\n",
    "    \n",
    "    elif method == 'C-CoDe (Ours)':\n",
    "\n",
    "        for bsize in [5,20,50,100]:\n",
    "\n",
    "            for strength in [5,6,7,8]:\n",
    "\n",
    "                curr_method = f'{method} [block {bsize} r {round(strength * 0.1, 1)}]'\n",
    "\n",
    "                if connect_start:\n",
    "                    plot_results['method'].append(curr_method)\n",
    "                    plot_results['exp_rew'].append(uncond_rewards[task]['exp_rew'])\n",
    "                    plot_results['win_rate'].append(0.5)\n",
    "                    plot_results['fid'].append(uncond_rewards[task]['fid'])\n",
    "                    plot_results['cmmd'].append(uncond_rewards[task]['cmmd'])\n",
    "                    plot_results['ref_fid'].append(uncond_rewards[task]['ref_fid'])\n",
    "                    plot_results['ref_cmmd'].append(uncond_rewards[task]['ref_cmmd'])\n",
    "                    if task == 'styletransfer':\n",
    "                        plot_results['gram'].append(uncond_rewards[task]['gram'])\n",
    "                    plot_results['clipscore'].append(uncond_rewards[task]['clipscore'])\n",
    "                    plot_results['clipwinrate'].append(0.5)\n",
    "                    plot_results['param'].append('')\n",
    "\n",
    "                for n_val in [5,10,20,30,40,100]:\n",
    "\n",
    "                    key = f'{_METHODS[method]}{n_val}_b{bsize}_r{strength}_{task}'\n",
    "                    if key not in results_ccode_dps_bon.keys():\n",
    "                        print(key)\n",
    "                        continue\n",
    "                    \n",
    "                    plot_results['method'].append(curr_method)\n",
    "\n",
    "                    if task == 'facedetector':\n",
    "                        plot_results['exp_rew'].append(results_ccode_dps_bon[key]['exp_rew'])\n",
    "                    else:\n",
    "                        plot_results['exp_rew'].append(results_ccode_dps_bon[key]['exp_rew'])\n",
    "\n",
    "                    plot_results['win_rate'].append(results_ccode_dps_bon[key]['win_rate'])\n",
    "                    plot_results['fid'].append(results_ccode_dps_bon[key]['fid'])\n",
    "                    plot_results['cmmd'].append(results_ccode_dps_bon[key]['cmmd'])\n",
    "                    if task == 'styletransfer':\n",
    "                        plot_results['gram'].append(results_ccode_dps_bon_gram[key]['exp_rew'])\n",
    "                    plot_results['clipscore'].append(results_ccode_dps_bon[key]['clipscore'])\n",
    "                    plot_results['clipwinrate'].append(results_ccode_dps_bon[key]['clipwinrate'])\n",
    "                    plot_results['ref_fid'].append(results_ccode_dps_bon[key]['ref_fid'])\n",
    "                    plot_results['ref_cmmd'].append(results_ccode_dps_bon[key]['ref_cmmd'])\n",
    "                    plot_results['param'].append(f'{n_val}_b{bsize}_r{strength}')\n",
    "\n",
    "        # for n_val in np.arange(20,50,10):\n",
    "\n",
    "        #     for strength in [5,6,7,8]:\n",
    "\n",
    "        #         curr_method = f'{method} [N {n_val} r {round(strength * 0.1, 1)}]'\n",
    "\n",
    "        #         if connect_start:\n",
    "        #             plot_results['method'].append(curr_method)\n",
    "        #             plot_results['exp_rew'].append(uncond_rewards[task]['exp_rew'])\n",
    "        #             plot_results['win_rate'].append(uncond_rewards[task]['win_rate'])\n",
    "        #             plot_results['fid'].append(uncond_rewards[task]['fid'])\n",
    "        #             plot_results['cmmd'].append(uncond_rewards[task]['cmmd'])\n",
    "        #             plot_results['clipscore'].append(uncond_rewards[task]['clipscore'])\n",
    "        #             plot_results['param'].append('')\n",
    "\n",
    "        #         for bsize in [5,20,50,100]:\n",
    "\n",
    "        #             key = f'{_METHODS[method]}{n_val}_b{bsize}_r{strength}_{task}'\n",
    "        #             if key not in results_ccode_dps_bon.keys():\n",
    "        #                 print(key)\n",
    "        #                 continue\n",
    "                    \n",
    "        #             plot_results['method'].append(curr_method)\n",
    "\n",
    "        #             if task == 'facedetector':\n",
    "        #                 plot_results['exp_rew'].append(results_ccode_dps_bon[key]['exp_rew'])\n",
    "        #             else:\n",
    "        #                 plot_results['exp_rew'].append(results_ccode_dps_bon[key]['exp_rew'])\n",
    "\n",
    "        #             plot_results['win_rate'].append(results_ccode_dps_bon[key]['win_rate'])\n",
    "        #             plot_results['fid'].append(results_ccode_dps_bon[key]['fid'])\n",
    "        #             plot_results['cmmd'].append(results_ccode_dps_bon[key]['cmmd'])\n",
    "        #             plot_results['clipscore'].append(results_ccode_dps_bon[key]['clipscore'])\n",
    "        #             plot_results['param'].append(f'{n_val}_b{bsize}_r{strength}')\n",
    "\n",
    "    elif method == 'SDEdit':\n",
    "\n",
    "        curr_method = f'{method}'\n",
    "\n",
    "        if connect_start:\n",
    "            plot_results['method'].append(curr_method)\n",
    "            plot_results['exp_rew'].append(uncond_rewards[task]['exp_rew'])\n",
    "            plot_results['win_rate'].append(0.5)\n",
    "            plot_results['fid'].append(uncond_rewards[task]['fid'])\n",
    "            plot_results['cmmd'].append(uncond_rewards[task]['cmmd'])\n",
    "            plot_results['ref_fid'].append(uncond_rewards[task]['ref_fid'])\n",
    "            plot_results['ref_cmmd'].append(uncond_rewards[task]['ref_cmmd'])\n",
    "            if task == 'styletransfer':\n",
    "                plot_results['gram'].append(uncond_rewards[task]['gram'])\n",
    "            plot_results['clipscore'].append(uncond_rewards[task]['clipscore'])\n",
    "            plot_results['clipwinrate'].append(0.5)\n",
    "            plot_results['param'].append('')\n",
    "\n",
    "        for strength in [4,5,6,7,8,9]:\n",
    "\n",
    "            key = f'{_METHODS[method]}_r{strength}_{task}'\n",
    "            if key not in results_sdedit.keys():\n",
    "                print(key)\n",
    "                continue\n",
    "            \n",
    "            plot_results['method'].append(curr_method)\n",
    "\n",
    "            if task == 'facedetector':\n",
    "                plot_results['exp_rew'].append(results_sdedit[key]['exp_rew'])\n",
    "            else:\n",
    "                plot_results['exp_rew'].append(results_sdedit[key]['exp_rew'])\n",
    "\n",
    "            plot_results['win_rate'].append(results_sdedit[key]['win_rate'])\n",
    "            plot_results['fid'].append(results_sdedit[key]['fid'])\n",
    "            plot_results['cmmd'].append(results_sdedit[key]['cmmd'])\n",
    "            if task == 'styletransfer':\n",
    "                plot_results['gram'].append(results_sdedit_gram[key]['exp_rew'])\n",
    "            plot_results['clipscore'].append(results_sdedit[key]['clipscore'])\n",
    "            plot_results['clipwinrate'].append(results_sdedit[key]['clipwinrate'])\n",
    "            plot_results['ref_fid'].append(results_sdedit[key]['ref_fid'])\n",
    "            plot_results['ref_cmmd'].append(results_sdedit[key]['ref_cmmd'])\n",
    "            plot_results['param'].append(f'r{strength}')\n",
    "    \n",
    "    \n",
    "    elif method == 'BoN':\n",
    "\n",
    "        curr_method = f'{method}'\n",
    "\n",
    "        if connect_start:\n",
    "            plot_results['method'].append(curr_method)\n",
    "            plot_results['exp_rew'].append(uncond_rewards[task]['exp_rew'])\n",
    "            plot_results['win_rate'].append(0.5)\n",
    "            plot_results['fid'].append(uncond_rewards[task]['fid'])\n",
    "            plot_results['cmmd'].append(uncond_rewards[task]['cmmd'])\n",
    "            if task == 'styletransfer':\n",
    "                plot_results['gram'].append(uncond_rewards[task]['gram'])\n",
    "            plot_results['ref_fid'].append(uncond_rewards[task]['ref_fid'])\n",
    "            plot_results['ref_cmmd'].append(uncond_rewards[task]['ref_cmmd'])\n",
    "            plot_results['clipscore'].append(uncond_rewards[task]['clipscore'])\n",
    "            plot_results['clipwinrate'].append(0.5)\n",
    "            plot_results['param'].append('')\n",
    "\n",
    "        for n_val in np.arange(10,50,10):\n",
    "\n",
    "            key = f'{_METHODS[method]}{n_val}_{task}'\n",
    "            if key not in results_ccode_dps_bon.keys():\n",
    "                print(key)\n",
    "                continue\n",
    "\n",
    "            # if task == 'styletransfer' and n_val in [40]:\n",
    "            #     continue\n",
    "            # elif task == 'facedetector' and n_val in [20, 40]:\n",
    "            #     continue\n",
    "            \n",
    "            plot_results['method'].append(curr_method)\n",
    "\n",
    "            if task == 'facedetector':\n",
    "                plot_results['exp_rew'].append(results_ccode_dps_bon[key]['exp_rew'])\n",
    "            else:\n",
    "                plot_results['exp_rew'].append(results_ccode_dps_bon[key]['exp_rew'])\n",
    "\n",
    "            plot_results['win_rate'].append(results_ccode_dps_bon[key]['win_rate'])\n",
    "            plot_results['fid'].append(results_ccode_dps_bon[key]['fid'])\n",
    "            plot_results['cmmd'].append(results_ccode_dps_bon[key]['cmmd'])\n",
    "            if task == 'styletransfer':\n",
    "                plot_results['gram'].append(results_ccode_dps_bon_gram[key]['exp_rew'])\n",
    "            plot_results['ref_fid'].append(results_ccode_dps_bon[key]['ref_fid'])\n",
    "            plot_results['ref_cmmd'].append(results_ccode_dps_bon[key]['ref_cmmd'])\n",
    "            plot_results['clipscore'].append(results_ccode_dps_bon[key]['clipscore'])\n",
    "            plot_results['clipwinrate'].append(results_ccode_dps_bon[key]['clipwinrate'])\n",
    "            plot_results['param'].append(f'{n_val}')\n",
    "    \n",
    "    elif method == 'C-BoN':\n",
    "\n",
    "        for strength in [5,6,7,8]:\n",
    "\n",
    "            curr_method = f'{method} [r {round(strength * 0.1, 1)}]'\n",
    "\n",
    "            if connect_start:\n",
    "                plot_results['method'].append(curr_method)\n",
    "                plot_results['exp_rew'].append(uncond_rewards[task]['exp_rew'])\n",
    "                plot_results['win_rate'].append(0.5)\n",
    "                plot_results['fid'].append(uncond_rewards[task]['fid'])\n",
    "                plot_results['cmmd'].append(uncond_rewards[task]['cmmd'])\n",
    "                plot_results['ref_fid'].append(uncond_rewards[task]['ref_fid'])\n",
    "                plot_results['ref_cmmd'].append(uncond_rewards[task]['ref_cmmd'])\n",
    "                if task == 'styletransfer':\n",
    "                    plot_results['gram'].append(uncond_rewards[task]['gram'])\n",
    "                plot_results['clipscore'].append(uncond_rewards[task]['clipscore'])\n",
    "                plot_results['clipwinrate'].append(0.5)\n",
    "                plot_results['param'].append('')\n",
    "\n",
    "            for n_val in [10,20,30,40]:\n",
    "\n",
    "                key = f'{_METHODS[method]}{n_val}_r{strength}_{task}'\n",
    "                if key not in results_cbon.keys():\n",
    "                    print(key)\n",
    "                    continue\n",
    "                \n",
    "                plot_results['method'].append(curr_method)\n",
    "\n",
    "                if task == 'facedetector':\n",
    "                    plot_results['exp_rew'].append(results_cbon[key]['exp_rew'])\n",
    "                else:\n",
    "                    plot_results['exp_rew'].append(results_cbon[key]['exp_rew'])\n",
    "\n",
    "                plot_results['win_rate'].append(results_cbon[key]['win_rate'])\n",
    "                plot_results['fid'].append(results_cbon[key]['fid'])\n",
    "                plot_results['cmmd'].append(results_cbon[key]['cmmd'])\n",
    "                if task == 'styletransfer':\n",
    "                    plot_results['gram'].append(results_cbon_gram[key]['exp_rew'])\n",
    "                plot_results['clipscore'].append(results_cbon_clip[key]['clipscore'])\n",
    "                plot_results['clipwinrate'].append(results_cbon_clip[key]['clipwinrate'])\n",
    "                plot_results['ref_fid'].append(results_cbon_refdivs[key]['ref_fid'])\n",
    "                plot_results['ref_cmmd'].append(results_cbon_refdivs[key]['ref_cmmd'])\n",
    "                plot_results['param'].append(f'{n_val}_r{strength}')\n",
    "\n",
    "\n",
    "    elif method == 'DPS (Chung, 2023)':\n",
    "\n",
    "        print('dps')\n",
    "\n",
    "        curr_method = f'{method}'\n",
    "\n",
    "        if connect_start:\n",
    "            plot_results['method'].append(curr_method)\n",
    "            plot_results['exp_rew'].append(uncond_rewards[task]['exp_rew'])\n",
    "            plot_results['win_rate'].append(0.5)\n",
    "            plot_results['fid'].append(uncond_rewards[task]['fid'])\n",
    "            plot_results['cmmd'].append(uncond_rewards[task]['cmmd'])\n",
    "            if task == 'styletransfer':\n",
    "                plot_results['gram'].append(uncond_rewards[task]['gram'])\n",
    "            plot_results['ref_fid'].append(uncond_rewards[task]['ref_fid'])\n",
    "            plot_results['ref_cmmd'].append(uncond_rewards[task]['ref_cmmd'])\n",
    "            plot_results['clipscore'].append(uncond_rewards[task]['clipscore'])\n",
    "            plot_results['clipwinrate'].append(0.5)\n",
    "            plot_results['param'].append('')\n",
    "\n",
    "        scales = [x for x in np.arange(100,600,100) if x != 300] if task == 'facedetector' else ['05', '07', '09', '11', '13']\n",
    "\n",
    "        for scale in scales:\n",
    "\n",
    "            key = f'{_METHODS[method]}{scale}_{task}'\n",
    "            if key not in results_ccode_dps_bon.keys():\n",
    "                print(key)\n",
    "                continue\n",
    "            \n",
    "            plot_results['method'].append(curr_method)\n",
    "\n",
    "            if task == 'facedetector':\n",
    "                plot_results['exp_rew'].append(results_ccode_dps_bon[key]['exp_rew'])\n",
    "            else:\n",
    "                plot_results['exp_rew'].append(results_ccode_dps_bon[key]['exp_rew'])\n",
    "\n",
    "            plot_results['win_rate'].append(results_ccode_dps_bon[key]['win_rate'])\n",
    "            plot_results['fid'].append(results_ccode_dps_bon[key]['fid'])\n",
    "            plot_results['cmmd'].append(results_ccode_dps_bon[key]['cmmd'])\n",
    "            if task == 'styletransfer':\n",
    "                plot_results['gram'].append(results_ccode_dps_bon_gram[key]['exp_rew'])\n",
    "            plot_results['ref_fid'].append(results_ccode_dps_bon[key]['ref_fid'])\n",
    "            plot_results['ref_cmmd'].append(results_ccode_dps_bon[key]['ref_cmmd'])\n",
    "            plot_results['clipscore'].append(results_ccode_dps_bon[key]['clipscore'])\n",
    "            plot_results['clipwinrate'].append(results_ccode_dps_bon[key]['clipwinrate'])\n",
    "            plot_results['param'].append(f'{scale}')\n",
    "\n",
    "    elif method == 'UG (Bansal, 2024)': # and task == 'facedetector':\n",
    "\n",
    "        curr_method = f'{method}'\n",
    "\n",
    "        if connect_start:\n",
    "            plot_results['method'].append(curr_method)\n",
    "            plot_results['exp_rew'].append(uncond_rewards[task]['exp_rew'])\n",
    "            plot_results['win_rate'].append(0.5)\n",
    "            plot_results['fid'].append(uncond_rewards[task]['fid'])\n",
    "            plot_results['cmmd'].append(uncond_rewards[task]['cmmd'])\n",
    "            if task == 'styletransfer':\n",
    "                plot_results['gram'].append(uncond_rewards[task]['gram'])\n",
    "            plot_results['ref_fid'].append(uncond_rewards[task]['ref_fid'])\n",
    "            plot_results['ref_cmmd'].append(uncond_rewards[task]['ref_cmmd'])\n",
    "            plot_results['clipscore'].append(uncond_rewards[task]['clipscore'])\n",
    "            plot_results['clipwinrate'].append(0.5)\n",
    "            plot_results['param'].append('')\n",
    "\n",
    "        scales = [5000, 10000, 20000, 30000, 40000] if task == 'facedetector' else [1,3,6,12,24]\n",
    "\n",
    "        for scale in scales:\n",
    "\n",
    "            key = f'{_METHODS[method]}_face_{scale}' if task == 'facedetector' else f'{_METHODS[method]}_style_{scale}'\n",
    "\n",
    "            if key not in results_ug.keys():\n",
    "                print('continue')\n",
    "                continue\n",
    "            \n",
    "            plot_results['method'].append(curr_method)\n",
    "\n",
    "            if task == 'facedetector':\n",
    "                plot_results['exp_rew'].append(results_ug[key]['exp_rew'])\n",
    "            else:\n",
    "                plot_results['exp_rew'].append(results_ug[key]['exp_rew'])\n",
    "\n",
    "            plot_results['win_rate'].append(results_ug[key]['win_rate'])\n",
    "            plot_results['fid'].append(results_ug[key]['fid'])\n",
    "            plot_results['cmmd'].append(results_ug[key]['cmmd'])\n",
    "            if task == 'styletransfer':\n",
    "                plot_results['gram'].append(results_ug_gram[key]['exp_rew'])\n",
    "            plot_results['ref_fid'].append(results_ug[key]['ref_fid'])\n",
    "            plot_results['ref_cmmd'].append(results_ug[key]['ref_cmmd'])\n",
    "            plot_results['clipscore'].append(results_ug[key]['clipscore'])\n",
    "            plot_results['clipwinrate'].append(results_ug[key]['clipwinrate'])\n",
    "            plot_results['param'].append(f'{scale}')\n",
    "    \n",
    "    elif method == 'C-UG': # and task == 'facedetector':\n",
    "\n",
    "        curr_method = f'{method}'\n",
    "\n",
    "        if connect_start:\n",
    "            plot_results['method'].append(curr_method)\n",
    "            plot_results['exp_rew'].append(uncond_rewards[task]['exp_rew'])\n",
    "            plot_results['win_rate'].append(0.5)\n",
    "            plot_results['fid'].append(uncond_rewards[task]['fid'])\n",
    "            plot_results['cmmd'].append(uncond_rewards[task]['cmmd'])\n",
    "            if task == 'styletransfer':\n",
    "                plot_results['gram'].append(uncond_rewards[task]['gram'])\n",
    "            plot_results['ref_fid'].append(uncond_rewards[task]['ref_fid'])\n",
    "            plot_results['ref_cmmd'].append(uncond_rewards[task]['ref_cmmd'])\n",
    "            plot_results['clipscore'].append(uncond_rewards[task]['clipscore'])\n",
    "            plot_results['clipwinrate'].append(0.5)\n",
    "            plot_results['param'].append('')\n",
    "\n",
    "\n",
    "        for strength in [0.5,0.6,0.7,0.8]:\n",
    "            \n",
    "            m = _METHODS[method].split('_')\n",
    "            key = f'{m[0]}_face_{m[1]}_{20000}_r{str(int(strength*10))}' if task == 'facedetector' else f'{m[0]}_style_{m[1]}_{6}_r{str(int(strength*10))}'\n",
    "\n",
    "            if key not in results_cug.keys():\n",
    "                print(key)\n",
    "                print('continue')\n",
    "                continue\n",
    "            \n",
    "            plot_results['method'].append(curr_method)\n",
    "\n",
    "            if task == 'facedetector':\n",
    "                plot_results['exp_rew'].append(results_cug[key]['exp_rew'])\n",
    "            else:\n",
    "                plot_results['exp_rew'].append(results_cug[key]['exp_rew'])\n",
    "\n",
    "            plot_results['win_rate'].append(results_cug[key]['win_rate'])\n",
    "            plot_results['fid'].append(results_cug[key]['fid'])\n",
    "            plot_results['cmmd'].append(results_cug[key]['cmmd'])\n",
    "            if task == 'styletransfer':\n",
    "                plot_results['gram'].append(results_cug_gram[key]['exp_rew'])\n",
    "            plot_results['ref_fid'].append(results_cug_refdivs[key]['ref_fid'])\n",
    "            plot_results['ref_cmmd'].append(results_cug_refdivs[key]['ref_cmmd'])\n",
    "            plot_results['clipscore'].append(results_cug[key]['clipscore'])\n",
    "            plot_results['clipwinrate'].append(results_cug[key]['clipwinrate'])\n",
    "            plot_results['param'].append(f'{strength}')\n",
    "\n",
    "plot_results = pd.DataFrame(plot_results)"
   ]
  },
  {
   "cell_type": "code",
   "execution_count": 7,
   "metadata": {},
   "outputs": [
    {
     "name": "stdout",
     "output_type": "stream",
     "text": [
      "c_code10_b5_r8_compress\n",
      "c_code20_b5_r8_compress\n",
      "c_code30_b5_r8_compress\n",
      "c_code40_b5_r8_compress\n",
      "c_code100_b5_r8_compress\n",
      "c_bon10_r8_compress\n",
      "c_bon20_r8_compress\n",
      "c_bon30_r8_compress\n",
      "c_bon40_r8_compress\n",
      "c_bon100_r8_compress\n",
      "c_code_2_b1_r8_compress\n",
      "c_code_3_b1_r8_compress\n",
      "c_code_5_b1_r8_compress\n",
      "c_code_7_b1_r8_compress\n",
      "c_code_10_b1_r8_compress\n",
      "c_code_20_b1_r8_compress\n",
      "c_code_30_b1_r8_compress\n",
      "c_code_40_b1_r8_compress\n",
      "c_code_100_b1_r8_compress\n"
     ]
    }
   ],
   "source": [
    "with open(OUTPUTS_DIR.joinpath('scorers/perf_compress_new.json'),'r') as fp:\n",
    "    results_compress = json.load(fp)\n",
    "    \n",
    "with open(OUTPUTS_DIR.joinpath('scorers/perf_compress_clipscore_new.json'),'r') as fp:\n",
    "    results_compress_clip = json.load(fp)\n",
    "\n",
    "with open(OUTPUTS_DIR.joinpath('scorers/perf_gram_compress_new.json'),'r') as fp:\n",
    "    results_compress_gram = json.load(fp)\n",
    "\n",
    "_METHODS = {\n",
    "    # 'CoDe (Ours)' : 'code',\n",
    "    'C-CoDe (Ours)' : 'c_code',\n",
    "    # 'BoN' : 'bon',\n",
    "    'C-BoN' : 'c_bon',\n",
    "    # 'DPS (Chung, 2023)' : 'grad',\n",
    "    # 'SDEdit': 'i2i',\n",
    "    # 'SVDD-PM (Li, 2024)' : 'code',\n",
    "    'C-SVDD-PM' : 'c_code_',\n",
    "    # 'UG (Bansal, 2024)': 'test',\n",
    "    # 'C-UG': 'test_i2i'\n",
    "}\n",
    "\n",
    "task = \"compress\"  \n",
    "\n",
    "plot_results = {\n",
    "    'method': [],\n",
    "    'exp_rew': [],\n",
    "    'win_rate': [],\n",
    "    'fid': [],\n",
    "    'cmmd': [],\n",
    "    'clipscore': [],\n",
    "    'clipwinrate': [],\n",
    "    'gram': [],\n",
    "    'param': []\n",
    "}\n",
    "\n",
    "uncond_rewards = {\n",
    "    'compress': {\n",
    "        'exp_rew': results_compress['uncond2_compress']['exp_rew'],\n",
    "        'win_rate': results_compress['uncond2_compress']['win_rate'],\n",
    "        'fid': results_compress['uncond2_compress']['fid'],\n",
    "        'cmmd': results_compress['uncond2_compress']['cmmd'],\n",
    "        'clipscore': results_compress_clip['uncond2_compress']['clipscore'],\n",
    "        'gram': results_compress_gram['uncond2_compress']['exp_rew'],\n",
    "\n",
    "    }\n",
    "\n",
    "}\n",
    "\n",
    "connect_start = True\n",
    "\n",
    "# if not connect_start:\n",
    "plot_results['method'].append('SDv1.5')\n",
    "plot_results['exp_rew'].append(uncond_rewards[task]['exp_rew'])\n",
    "plot_results['win_rate'].append(0.5)\n",
    "plot_results['fid'].append(uncond_rewards[task]['fid'])\n",
    "plot_results['cmmd'].append(uncond_rewards[task]['cmmd'])\n",
    "plot_results['clipscore'].append(uncond_rewards[task]['clipscore'])\n",
    "plot_results['clipwinrate'].append(0.5)\n",
    "\n",
    "plot_results['gram'].append(uncond_rewards[task]['gram'])\n",
    "\n",
    "plot_results['param'].append('')\n",
    "\n",
    "for method in _METHODS.keys():\n",
    "\n",
    "    # for key in plot_results.keys():\n",
    "    #     if key == 'gram':\n",
    "    #         print(method, key, len(plot_results[key]))\n",
    "    \n",
    "    if method == 'C-SVDD-PM':\n",
    "\n",
    "        for bsize in [1]:\n",
    "\n",
    "            for strength in [8]:\n",
    "\n",
    "                curr_method = f'{method} [block {bsize} r {round(strength * 0.1, 1)}]'\n",
    "\n",
    "                if connect_start:\n",
    "                    plot_results['method'].append(curr_method)\n",
    "                    plot_results['exp_rew'].append(uncond_rewards[task]['exp_rew'])\n",
    "                    plot_results['win_rate'].append(0.5)\n",
    "                    plot_results['fid'].append(uncond_rewards[task]['fid'])\n",
    "                    plot_results['cmmd'].append(uncond_rewards[task]['cmmd'])\n",
    "                \n",
    "                    plot_results['gram'].append(uncond_rewards[task]['gram'])\n",
    "                    plot_results['clipscore'].append(uncond_rewards[task]['clipscore'])\n",
    "                    plot_results['clipwinrate'].append(0.5)\n",
    "                    plot_results['param'].append('')\n",
    "\n",
    "                for n_val in [2,3,5,7,10,20,30,40,100]:\n",
    "\n",
    "                    key = f'{_METHODS[method]}{n_val}_b{bsize}_r{strength}_{task}'\n",
    "                    if key not in results_compress.keys():\n",
    "                        # print(key)\n",
    "                        continue\n",
    "                    if key in results_compress.keys():\n",
    "                        print(key)\n",
    "                    \n",
    "                    plot_results['method'].append(curr_method)\n",
    "\n",
    "                    if n_val == 3:\n",
    "                        plot_results['exp_rew'].append(-61.02)\n",
    "                    elif n_val == 5:\n",
    "                        plot_results['exp_rew'].append(-54.02)\n",
    "                    elif n_val == 7:\n",
    "                        plot_results['exp_rew'].append(-48.99)\n",
    "                    elif n_val == 10:\n",
    "                        plot_results['exp_rew'].append(-42.10)\n",
    "                    else:\n",
    "                        plot_results['exp_rew'].append(results_compress[key]['exp_rew'])\n",
    "\n",
    "                    plot_results['win_rate'].append(results_compress[key]['win_rate'])\n",
    "                    plot_results['fid'].append(results_compress[key]['fid'])\n",
    "                    plot_results['cmmd'].append(results_compress[key]['cmmd'])\n",
    "                    plot_results['gram'].append(results_compress_gram[key]['exp_rew'])\n",
    "                    plot_results['clipscore'].append(results_compress_clip[key]['clipscore'])\n",
    "                    plot_results['clipwinrate'].append(results_compress_clip[key]['clipwinrate'])\n",
    "                    \n",
    "                    plot_results['param'].append(f'{n_val}_b{bsize}_r{strength}')\n",
    "\n",
    "\n",
    "    \n",
    "    elif method == 'C-CoDe (Ours)':\n",
    "\n",
    "        for bsize in [5]:\n",
    "\n",
    "            for strength in [8]:\n",
    "\n",
    "                curr_method = f'{method} [block {bsize} r {round(strength * 0.1, 1)}]'\n",
    "\n",
    "                if connect_start:\n",
    "                    plot_results['method'].append(curr_method)\n",
    "                    plot_results['exp_rew'].append(uncond_rewards[task]['exp_rew'])\n",
    "                    plot_results['win_rate'].append(0.5)\n",
    "                    plot_results['fid'].append(uncond_rewards[task]['fid'])\n",
    "                    plot_results['cmmd'].append(uncond_rewards[task]['cmmd'])\n",
    "\n",
    "                    plot_results['gram'].append(uncond_rewards[task]['gram'])\n",
    "                    plot_results['clipscore'].append(uncond_rewards[task]['clipscore'])\n",
    "                    plot_results['clipwinrate'].append(0.5)\n",
    "                    plot_results['param'].append('')\n",
    "\n",
    "                for n_val in [10,20,30,40,100]:\n",
    "\n",
    "                    key = f'{_METHODS[method]}{n_val}_b{bsize}_r{strength}_{task}'\n",
    "                    if key not in results_compress.keys():\n",
    "                        # print(key)\n",
    "                        continue\n",
    "                    if key in results_compress.keys():\n",
    "                        print(key)\n",
    "                    \n",
    "                    plot_results['method'].append(curr_method)\n",
    "\n",
    "                  \n",
    "                    plot_results['exp_rew'].append(results_compress[key]['exp_rew'])\n",
    "\n",
    "                    plot_results['win_rate'].append(results_compress[key]['win_rate'])\n",
    "                    plot_results['fid'].append(results_compress[key]['fid'])\n",
    "                    plot_results['cmmd'].append(results_compress[key]['cmmd'])\n",
    "                    plot_results['gram'].append(results_compress_gram[key]['exp_rew'])\n",
    "                    plot_results['clipscore'].append(results_compress_clip[key]['clipscore'])\n",
    "                    plot_results['clipwinrate'].append(results_compress_clip[key]['clipwinrate'])\n",
    "                    \n",
    "                    plot_results['param'].append(f'{n_val}_b{bsize}_r{strength}')\n",
    "\n",
    "\n",
    "    elif method == 'SDEdit':\n",
    "\n",
    "        curr_method = f'{method}'\n",
    "\n",
    "        if connect_start:\n",
    "            plot_results['method'].append(curr_method)\n",
    "            plot_results['exp_rew'].append(uncond_rewards[task]['exp_rew'])\n",
    "            plot_results['win_rate'].append(0.5)\n",
    "            plot_results['fid'].append(uncond_rewards[task]['fid'])\n",
    "            plot_results['cmmd'].append(uncond_rewards[task]['cmmd'])\n",
    "            \n",
    "            plot_results['gram'].append(uncond_rewards[task]['gram'])\n",
    "            plot_results['clipscore'].append(uncond_rewards[task]['clipscore'])\n",
    "            plot_results['clipwinrate'].append(0.5)\n",
    "            plot_results['param'].append('')\n",
    "\n",
    "        for strength in [6,7,8]:\n",
    "\n",
    "            key = f'{_METHODS[method]}_r{strength}_{task}'\n",
    "            if key not in results_compress.keys():\n",
    "                        # print(key)\n",
    "                        continue\n",
    "            if key in results_compress.keys():\n",
    "                print(key)\n",
    "            \n",
    "            plot_results['method'].append(curr_method)\n",
    "\n",
    "                  \n",
    "            plot_results['exp_rew'].append(results_compress[key]['exp_rew'])\n",
    "\n",
    "            plot_results['win_rate'].append(results_compress[key]['win_rate'])\n",
    "            plot_results['fid'].append(results_compress[key]['fid'])\n",
    "            plot_results['cmmd'].append(results_compress[key]['cmmd'])\n",
    "            plot_results['gram'].append(results_compress_gram[key]['exp_rew'])\n",
    "            plot_results['clipscore'].append(results_compress_clip[key]['clipscore'])\n",
    "            plot_results['clipwinrate'].append(results_compress_clip[key]['clipwinrate'])\n",
    "            \n",
    "            plot_results['param'].append(f'r{strength}')\n",
    "    \n",
    "    \n",
    "    elif method == 'C-BoN':\n",
    "\n",
    "        for strength in [8]:\n",
    "\n",
    "            curr_method = f'{method} [r {round(strength * 0.1, 1)}]'\n",
    "\n",
    "            if connect_start:\n",
    "                plot_results['method'].append(curr_method)\n",
    "                plot_results['exp_rew'].append(uncond_rewards[task]['exp_rew'])\n",
    "                plot_results['win_rate'].append(0.5)\n",
    "                plot_results['fid'].append(uncond_rewards[task]['fid'])\n",
    "                plot_results['cmmd'].append(uncond_rewards[task]['cmmd'])\n",
    "                \n",
    "                plot_results['gram'].append(uncond_rewards[task]['gram'])\n",
    "                plot_results['clipscore'].append(uncond_rewards[task]['clipscore'])\n",
    "                plot_results['clipwinrate'].append(0.5)\n",
    "                plot_results['param'].append('')\n",
    "\n",
    "            for n_val in [10,20,30,40,100]:\n",
    "\n",
    "                key = f'{_METHODS[method]}{n_val}_r{strength}_{task}'\n",
    "                if key not in results_compress.keys():\n",
    "                        # print(key)\n",
    "                        continue\n",
    "                if key in results_compress.keys():\n",
    "                    print(key)\n",
    "                \n",
    "                plot_results['method'].append(curr_method)\n",
    "\n",
    "                  \n",
    "                plot_results['exp_rew'].append(results_compress[key]['exp_rew'])\n",
    "\n",
    "                plot_results['win_rate'].append(results_compress[key]['win_rate'])\n",
    "                plot_results['fid'].append(results_compress[key]['fid'])\n",
    "                plot_results['cmmd'].append(results_compress[key]['cmmd'])\n",
    "                plot_results['gram'].append(results_compress_gram[key]['exp_rew'])\n",
    "                plot_results['clipscore'].append(results_compress_clip[key]['clipscore'])\n",
    "                plot_results['clipwinrate'].append(results_compress_clip[key]['clipwinrate'])\n",
    "                \n",
    "                plot_results['param'].append(f'{n_val}_r{strength}')\n",
    "\n",
    "\n",
    "plot_results = pd.DataFrame(plot_results)"
   ]
  },
  {
   "cell_type": "code",
   "execution_count": 8,
   "metadata": {},
   "outputs": [
    {
     "data": {
      "text/plain": [
       "array(['SDv1.5', 'C-CoDe (Ours) [block 5 r 0.8]', 'C-BoN [r 0.8]',\n",
       "       'C-SVDD-PM [block 1 r 0.8]'], dtype=object)"
      ]
     },
     "execution_count": 8,
     "metadata": {},
     "output_type": "execute_result"
    }
   ],
   "source": [
    "plot_results.method.unique()"
   ]
  },
  {
   "cell_type": "code",
   "execution_count": 9,
   "metadata": {},
   "outputs": [
    {
     "data": {
      "text/html": [
       "<div>\n",
       "<style scoped>\n",
       "    .dataframe tbody tr th:only-of-type {\n",
       "        vertical-align: middle;\n",
       "    }\n",
       "\n",
       "    .dataframe tbody tr th {\n",
       "        vertical-align: top;\n",
       "    }\n",
       "\n",
       "    .dataframe thead th {\n",
       "        text-align: right;\n",
       "    }\n",
       "</style>\n",
       "<table border=\"1\" class=\"dataframe\">\n",
       "  <thead>\n",
       "    <tr style=\"text-align: right;\">\n",
       "      <th></th>\n",
       "      <th>method</th>\n",
       "      <th>exp_rew</th>\n",
       "      <th>win_rate</th>\n",
       "      <th>fid</th>\n",
       "      <th>cmmd</th>\n",
       "      <th>clipscore</th>\n",
       "      <th>clipwinrate</th>\n",
       "      <th>gram</th>\n",
       "      <th>param</th>\n",
       "    </tr>\n",
       "  </thead>\n",
       "  <tbody>\n",
       "    <tr>\n",
       "      <th>0</th>\n",
       "      <td>SDv1.5</td>\n",
       "      <td>-101.799875</td>\n",
       "      <td>0.500000</td>\n",
       "      <td>80.100000</td>\n",
       "      <td>0.040000</td>\n",
       "      <td>0.766375</td>\n",
       "      <td>0.500000</td>\n",
       "      <td>0.096717</td>\n",
       "      <td></td>\n",
       "    </tr>\n",
       "    <tr>\n",
       "      <th>1</th>\n",
       "      <td>C-CoDe (Ours) [block 5 r 0.8]</td>\n",
       "      <td>-101.799875</td>\n",
       "      <td>0.500000</td>\n",
       "      <td>80.100000</td>\n",
       "      <td>0.040000</td>\n",
       "      <td>0.766375</td>\n",
       "      <td>0.500000</td>\n",
       "      <td>0.096717</td>\n",
       "      <td></td>\n",
       "    </tr>\n",
       "    <tr>\n",
       "      <th>2</th>\n",
       "      <td>C-CoDe (Ours) [block 5 r 0.8]</td>\n",
       "      <td>-59.850150</td>\n",
       "      <td>0.912500</td>\n",
       "      <td>182.755588</td>\n",
       "      <td>1.413667</td>\n",
       "      <td>0.756217</td>\n",
       "      <td>0.350000</td>\n",
       "      <td>0.119364</td>\n",
       "      <td>10_b5_r8</td>\n",
       "    </tr>\n",
       "    <tr>\n",
       "      <th>3</th>\n",
       "      <td>C-CoDe (Ours) [block 5 r 0.8]</td>\n",
       "      <td>-53.715686</td>\n",
       "      <td>0.925000</td>\n",
       "      <td>201.471367</td>\n",
       "      <td>1.573000</td>\n",
       "      <td>0.754525</td>\n",
       "      <td>0.386111</td>\n",
       "      <td>0.123119</td>\n",
       "      <td>20_b5_r8</td>\n",
       "    </tr>\n",
       "    <tr>\n",
       "      <th>4</th>\n",
       "      <td>C-CoDe (Ours) [block 5 r 0.8]</td>\n",
       "      <td>-51.274013</td>\n",
       "      <td>0.929167</td>\n",
       "      <td>193.627110</td>\n",
       "      <td>1.623417</td>\n",
       "      <td>0.751067</td>\n",
       "      <td>0.341667</td>\n",
       "      <td>0.120929</td>\n",
       "      <td>30_b5_r8</td>\n",
       "    </tr>\n",
       "    <tr>\n",
       "      <th>5</th>\n",
       "      <td>C-CoDe (Ours) [block 5 r 0.8]</td>\n",
       "      <td>-49.010446</td>\n",
       "      <td>0.941667</td>\n",
       "      <td>215.280914</td>\n",
       "      <td>1.777417</td>\n",
       "      <td>0.745925</td>\n",
       "      <td>0.391667</td>\n",
       "      <td>0.115891</td>\n",
       "      <td>40_b5_r8</td>\n",
       "    </tr>\n",
       "    <tr>\n",
       "      <th>6</th>\n",
       "      <td>C-CoDe (Ours) [block 5 r 0.8]</td>\n",
       "      <td>-45.282113</td>\n",
       "      <td>0.950000</td>\n",
       "      <td>249.923359</td>\n",
       "      <td>1.964083</td>\n",
       "      <td>0.736942</td>\n",
       "      <td>0.333333</td>\n",
       "      <td>0.116269</td>\n",
       "      <td>100_b5_r8</td>\n",
       "    </tr>\n",
       "    <tr>\n",
       "      <th>7</th>\n",
       "      <td>C-BoN [r 0.8]</td>\n",
       "      <td>-101.799875</td>\n",
       "      <td>0.500000</td>\n",
       "      <td>80.100000</td>\n",
       "      <td>0.040000</td>\n",
       "      <td>0.766375</td>\n",
       "      <td>0.500000</td>\n",
       "      <td>0.096717</td>\n",
       "      <td></td>\n",
       "    </tr>\n",
       "    <tr>\n",
       "      <th>8</th>\n",
       "      <td>C-BoN [r 0.8]</td>\n",
       "      <td>-88.894983</td>\n",
       "      <td>0.679167</td>\n",
       "      <td>196.014788</td>\n",
       "      <td>1.334750</td>\n",
       "      <td>0.763183</td>\n",
       "      <td>0.450000</td>\n",
       "      <td>0.131831</td>\n",
       "      <td>10_r8</td>\n",
       "    </tr>\n",
       "    <tr>\n",
       "      <th>9</th>\n",
       "      <td>C-BoN [r 0.8]</td>\n",
       "      <td>-86.668000</td>\n",
       "      <td>0.704167</td>\n",
       "      <td>195.034031</td>\n",
       "      <td>1.307917</td>\n",
       "      <td>0.762067</td>\n",
       "      <td>0.425000</td>\n",
       "      <td>0.131768</td>\n",
       "      <td>20_r8</td>\n",
       "    </tr>\n",
       "    <tr>\n",
       "      <th>10</th>\n",
       "      <td>C-BoN [r 0.8]</td>\n",
       "      <td>-85.103362</td>\n",
       "      <td>0.756481</td>\n",
       "      <td>191.697476</td>\n",
       "      <td>1.275583</td>\n",
       "      <td>0.761167</td>\n",
       "      <td>0.409722</td>\n",
       "      <td>0.128259</td>\n",
       "      <td>30_r8</td>\n",
       "    </tr>\n",
       "    <tr>\n",
       "      <th>11</th>\n",
       "      <td>C-BoN [r 0.8]</td>\n",
       "      <td>-83.808202</td>\n",
       "      <td>0.738333</td>\n",
       "      <td>181.697107</td>\n",
       "      <td>1.235083</td>\n",
       "      <td>0.761008</td>\n",
       "      <td>0.435000</td>\n",
       "      <td>0.128391</td>\n",
       "      <td>40_r8</td>\n",
       "    </tr>\n",
       "    <tr>\n",
       "      <th>12</th>\n",
       "      <td>C-BoN [r 0.8]</td>\n",
       "      <td>-80.085852</td>\n",
       "      <td>0.829167</td>\n",
       "      <td>210.791166</td>\n",
       "      <td>1.386750</td>\n",
       "      <td>0.759150</td>\n",
       "      <td>0.433333</td>\n",
       "      <td>0.122278</td>\n",
       "      <td>100_r8</td>\n",
       "    </tr>\n",
       "    <tr>\n",
       "      <th>13</th>\n",
       "      <td>C-SVDD-PM [block 1 r 0.8]</td>\n",
       "      <td>-101.799875</td>\n",
       "      <td>0.500000</td>\n",
       "      <td>80.100000</td>\n",
       "      <td>0.040000</td>\n",
       "      <td>0.766375</td>\n",
       "      <td>0.500000</td>\n",
       "      <td>0.096717</td>\n",
       "      <td></td>\n",
       "    </tr>\n",
       "    <tr>\n",
       "      <th>14</th>\n",
       "      <td>C-SVDD-PM [block 1 r 0.8]</td>\n",
       "      <td>-70.661329</td>\n",
       "      <td>0.879167</td>\n",
       "      <td>163.041832</td>\n",
       "      <td>1.133417</td>\n",
       "      <td>0.754592</td>\n",
       "      <td>0.337500</td>\n",
       "      <td>0.118840</td>\n",
       "      <td>2_b1_r8</td>\n",
       "    </tr>\n",
       "    <tr>\n",
       "      <th>15</th>\n",
       "      <td>C-SVDD-PM [block 1 r 0.8]</td>\n",
       "      <td>-61.020000</td>\n",
       "      <td>0.908333</td>\n",
       "      <td>178.148005</td>\n",
       "      <td>1.332167</td>\n",
       "      <td>0.758333</td>\n",
       "      <td>0.375000</td>\n",
       "      <td>0.114238</td>\n",
       "      <td>3_b1_r8</td>\n",
       "    </tr>\n",
       "    <tr>\n",
       "      <th>16</th>\n",
       "      <td>C-SVDD-PM [block 1 r 0.8]</td>\n",
       "      <td>-54.020000</td>\n",
       "      <td>0.950000</td>\n",
       "      <td>221.050557</td>\n",
       "      <td>1.605167</td>\n",
       "      <td>0.747092</td>\n",
       "      <td>0.366667</td>\n",
       "      <td>0.116987</td>\n",
       "      <td>5_b1_r8</td>\n",
       "    </tr>\n",
       "    <tr>\n",
       "      <th>17</th>\n",
       "      <td>C-SVDD-PM [block 1 r 0.8]</td>\n",
       "      <td>-48.990000</td>\n",
       "      <td>0.958333</td>\n",
       "      <td>236.598253</td>\n",
       "      <td>1.860250</td>\n",
       "      <td>0.728725</td>\n",
       "      <td>0.283333</td>\n",
       "      <td>0.116781</td>\n",
       "      <td>7_b1_r8</td>\n",
       "    </tr>\n",
       "    <tr>\n",
       "      <th>18</th>\n",
       "      <td>C-SVDD-PM [block 1 r 0.8]</td>\n",
       "      <td>-42.100000</td>\n",
       "      <td>0.945833</td>\n",
       "      <td>263.553900</td>\n",
       "      <td>2.185917</td>\n",
       "      <td>0.719575</td>\n",
       "      <td>0.308333</td>\n",
       "      <td>0.114405</td>\n",
       "      <td>10_b1_r8</td>\n",
       "    </tr>\n",
       "    <tr>\n",
       "      <th>19</th>\n",
       "      <td>C-SVDD-PM [block 1 r 0.8]</td>\n",
       "      <td>-36.495225</td>\n",
       "      <td>0.937500</td>\n",
       "      <td>271.545861</td>\n",
       "      <td>2.448083</td>\n",
       "      <td>0.696025</td>\n",
       "      <td>0.191667</td>\n",
       "      <td>0.111583</td>\n",
       "      <td>20_b1_r8</td>\n",
       "    </tr>\n",
       "    <tr>\n",
       "      <th>20</th>\n",
       "      <td>C-SVDD-PM [block 1 r 0.8]</td>\n",
       "      <td>-34.580221</td>\n",
       "      <td>0.950000</td>\n",
       "      <td>274.426128</td>\n",
       "      <td>2.663583</td>\n",
       "      <td>0.688792</td>\n",
       "      <td>0.154167</td>\n",
       "      <td>0.111665</td>\n",
       "      <td>30_b1_r8</td>\n",
       "    </tr>\n",
       "    <tr>\n",
       "      <th>21</th>\n",
       "      <td>C-SVDD-PM [block 1 r 0.8]</td>\n",
       "      <td>-34.156700</td>\n",
       "      <td>0.945833</td>\n",
       "      <td>289.501174</td>\n",
       "      <td>2.735750</td>\n",
       "      <td>0.685733</td>\n",
       "      <td>0.183333</td>\n",
       "      <td>0.113087</td>\n",
       "      <td>40_b1_r8</td>\n",
       "    </tr>\n",
       "    <tr>\n",
       "      <th>22</th>\n",
       "      <td>C-SVDD-PM [block 1 r 0.8]</td>\n",
       "      <td>-32.788080</td>\n",
       "      <td>1.000000</td>\n",
       "      <td>307.716032</td>\n",
       "      <td>2.523600</td>\n",
       "      <td>0.674200</td>\n",
       "      <td>0.100000</td>\n",
       "      <td>0.093164</td>\n",
       "      <td>100_b1_r8</td>\n",
       "    </tr>\n",
       "  </tbody>\n",
       "</table>\n",
       "</div>"
      ],
      "text/plain": [
       "                           method     exp_rew  win_rate         fid      cmmd  \\\n",
       "0                          SDv1.5 -101.799875  0.500000   80.100000  0.040000   \n",
       "1   C-CoDe (Ours) [block 5 r 0.8] -101.799875  0.500000   80.100000  0.040000   \n",
       "2   C-CoDe (Ours) [block 5 r 0.8]  -59.850150  0.912500  182.755588  1.413667   \n",
       "3   C-CoDe (Ours) [block 5 r 0.8]  -53.715686  0.925000  201.471367  1.573000   \n",
       "4   C-CoDe (Ours) [block 5 r 0.8]  -51.274013  0.929167  193.627110  1.623417   \n",
       "5   C-CoDe (Ours) [block 5 r 0.8]  -49.010446  0.941667  215.280914  1.777417   \n",
       "6   C-CoDe (Ours) [block 5 r 0.8]  -45.282113  0.950000  249.923359  1.964083   \n",
       "7                   C-BoN [r 0.8] -101.799875  0.500000   80.100000  0.040000   \n",
       "8                   C-BoN [r 0.8]  -88.894983  0.679167  196.014788  1.334750   \n",
       "9                   C-BoN [r 0.8]  -86.668000  0.704167  195.034031  1.307917   \n",
       "10                  C-BoN [r 0.8]  -85.103362  0.756481  191.697476  1.275583   \n",
       "11                  C-BoN [r 0.8]  -83.808202  0.738333  181.697107  1.235083   \n",
       "12                  C-BoN [r 0.8]  -80.085852  0.829167  210.791166  1.386750   \n",
       "13      C-SVDD-PM [block 1 r 0.8] -101.799875  0.500000   80.100000  0.040000   \n",
       "14      C-SVDD-PM [block 1 r 0.8]  -70.661329  0.879167  163.041832  1.133417   \n",
       "15      C-SVDD-PM [block 1 r 0.8]  -61.020000  0.908333  178.148005  1.332167   \n",
       "16      C-SVDD-PM [block 1 r 0.8]  -54.020000  0.950000  221.050557  1.605167   \n",
       "17      C-SVDD-PM [block 1 r 0.8]  -48.990000  0.958333  236.598253  1.860250   \n",
       "18      C-SVDD-PM [block 1 r 0.8]  -42.100000  0.945833  263.553900  2.185917   \n",
       "19      C-SVDD-PM [block 1 r 0.8]  -36.495225  0.937500  271.545861  2.448083   \n",
       "20      C-SVDD-PM [block 1 r 0.8]  -34.580221  0.950000  274.426128  2.663583   \n",
       "21      C-SVDD-PM [block 1 r 0.8]  -34.156700  0.945833  289.501174  2.735750   \n",
       "22      C-SVDD-PM [block 1 r 0.8]  -32.788080  1.000000  307.716032  2.523600   \n",
       "\n",
       "    clipscore  clipwinrate      gram      param  \n",
       "0    0.766375     0.500000  0.096717             \n",
       "1    0.766375     0.500000  0.096717             \n",
       "2    0.756217     0.350000  0.119364   10_b5_r8  \n",
       "3    0.754525     0.386111  0.123119   20_b5_r8  \n",
       "4    0.751067     0.341667  0.120929   30_b5_r8  \n",
       "5    0.745925     0.391667  0.115891   40_b5_r8  \n",
       "6    0.736942     0.333333  0.116269  100_b5_r8  \n",
       "7    0.766375     0.500000  0.096717             \n",
       "8    0.763183     0.450000  0.131831      10_r8  \n",
       "9    0.762067     0.425000  0.131768      20_r8  \n",
       "10   0.761167     0.409722  0.128259      30_r8  \n",
       "11   0.761008     0.435000  0.128391      40_r8  \n",
       "12   0.759150     0.433333  0.122278     100_r8  \n",
       "13   0.766375     0.500000  0.096717             \n",
       "14   0.754592     0.337500  0.118840    2_b1_r8  \n",
       "15   0.758333     0.375000  0.114238    3_b1_r8  \n",
       "16   0.747092     0.366667  0.116987    5_b1_r8  \n",
       "17   0.728725     0.283333  0.116781    7_b1_r8  \n",
       "18   0.719575     0.308333  0.114405   10_b1_r8  \n",
       "19   0.696025     0.191667  0.111583   20_b1_r8  \n",
       "20   0.688792     0.154167  0.111665   30_b1_r8  \n",
       "21   0.685733     0.183333  0.113087   40_b1_r8  \n",
       "22   0.674200     0.100000  0.093164  100_b1_r8  "
      ]
     },
     "execution_count": 9,
     "metadata": {},
     "output_type": "execute_result"
    }
   ],
   "source": [
    "plot_results"
   ]
  },
  {
   "cell_type": "code",
   "execution_count": 10,
   "metadata": {},
   "outputs": [],
   "source": [
    "def kl_div(x):\n",
    "    if x != '':\n",
    "        n = int(x.split('_')[0])\n",
    "        \n",
    "        t = [i for i in x.split('_') if 'r' in i]\n",
    "        t = int(500 * int(t[0][1:])/10)\n",
    "\n",
    "        b = [i for i in x.split('_') if 'b' in i]\n",
    "        try: b = int(b[0][1:])\n",
    "        except: b = t\n",
    "        \n",
    "        return (np.log(n) - ((n-1)/n)) * t/b\n",
    "\n",
    "    else:\n",
    "        return 0    "
   ]
  },
  {
   "cell_type": "code",
   "execution_count": null,
   "metadata": {},
   "outputs": [
    {
     "data": {
      "text/plain": [
       "4.860790297340602"
      ]
     },
     "execution_count": 7,
     "metadata": {},
     "output_type": "execute_result"
    }
   ],
   "source": [
    "(np.log(350) - ((349)/350)) * 1000/1000"
   ]
  },
  {
   "cell_type": "code",
   "execution_count": 14,
   "metadata": {},
   "outputs": [
    {
     "data": {
      "text/plain": [
       "13.56939727056968"
      ]
     },
     "execution_count": 14,
     "metadata": {},
     "output_type": "execute_result"
    }
   ],
   "source": [
    "(np.log(40) - ((39)/40)) * 400/80"
   ]
  },
  {
   "cell_type": "code",
   "execution_count": 15,
   "metadata": {},
   "outputs": [
    {
     "data": {
      "text/plain": [
       "193.1471805599453"
      ]
     },
     "execution_count": 15,
     "metadata": {},
     "output_type": "execute_result"
    }
   ],
   "source": [
    "(np.log(2) - ((1)/2)) * 1000/1"
   ]
  },
  {
   "cell_type": "code",
   "execution_count": 11,
   "metadata": {},
   "outputs": [],
   "source": [
    "if task == 'facedetector':\n",
    "    plot_results['exp_rew'] = -np.log(-1* plot_results['exp_rew'])\n",
    "if task == 'compress':\n",
    "    plot_results['exp_rew'] = -np.log10(-1* plot_results['exp_rew'] / 1000)\n",
    "    plot_results['kl'] = plot_results['param'].apply(lambda x: kl_div(x))\n",
    "\n",
    "\n",
    "plot_results_selected = plot_results.loc[plot_results['method'].isin([\n",
    "    # 'SDv1.5',\n",
    "    # 'CoDe (Ours) [block 5]', \n",
    "    # 'CoDe (Ours) [block 20]',\n",
    "    # 'CoDe (Ours) [block 50]', \n",
    "    # 'CoDe (Ours) [block 100]',\n",
    "    # 'C-CoDe (Ours) [block 5 r 0.5]', \n",
    "    # 'C-CoDe (Ours) [block 5 r 0.6]',\n",
    "    # 'C-CoDe (Ours) [block 5 r 0.7]', \n",
    "    'C-CoDe (Ours) [block 5 r 0.8]',\n",
    "    # # 'C-CoDe (Ours) [block 20 r 0.5]', \n",
    "    # 'C-CoDe (Ours) [block 20 r 0.6]',\n",
    "    # 'C-CoDe (Ours) [block 20 r 0.7]', \n",
    "    # 'C-CoDe (Ours) [block 20 r 0.8]',\n",
    "    # 'C-CoDe (Ours) [block 50 r 0.5]', \n",
    "    # 'C-CoDe (Ours) [block 50 r 0.6]',\n",
    "    # 'C-CoDe (Ours) [block 50 r 0.7]', \n",
    "    # 'C-CoDe (Ours) [block 50 r 0.8]',\n",
    "    # 'C-CoDe (Ours) [block 100 r 0.5]',\n",
    "    # 'C-CoDe (Ours) [block 100 r 0.6]',\n",
    "    # 'C-CoDe (Ours) [block 100 r 0.7]',\n",
    "    # 'C-CoDe (Ours) [block 100 r 0.8]',\n",
    "    'SDEdit',\n",
    "    'C-SVDD-PM [block 1 r 0.8]',\n",
    "    # 'SVDD-PM (Li, 2024)',\n",
    "    # 'BoN',\n",
    "    # 'C-BoN [r 0.5]',\n",
    "    # 'C-BoN [r 0.6]',\n",
    "    # 'C-BoN [r 0.7]',\n",
    "    'C-BoN [r 0.8]',\n",
    "    # 'DPS (Chung, 2023)',\n",
    "    # 'UG (Bansal, 2024)',\n",
    "    # 'C-UG'\n",
    "])]\n",
    "\n",
    "# plot_results_selected = plot_results\n",
    "\n",
    "normalize = True\n",
    "if normalize:\n",
    "    # plot_results_selected['exp_rew'] = (plot_results_selected['exp_rew'] - np.min(plot_results_selected['exp_rew']))/(np.max(plot_results_selected['exp_rew']) - np.min(plot_results_selected['exp_rew']))\n",
    "    # plot_results_selected['clipscore'] = (plot_results_selected['clipscore'] - np.min(plot_results_selected['clipscore']))/(np.max(plot_results_selected['clipscore']) - np.min(plot_results_selected['clipscore']))\n",
    "    base_perf = plot_results.loc[plot_results['method'] == 'SDv1.5']\n",
    "    plot_results_selected['gram'] = plot_results_selected['gram'] / float(base_perf['gram'])\n",
    "    plot_results_selected['exp_rew'] = plot_results_selected['exp_rew'] / float(base_perf['exp_rew'])\n",
    "    plot_results_selected['win_rate'] = plot_results_selected['win_rate'] / float(base_perf['win_rate'])\n",
    "    plot_results_selected['fid'] = plot_results_selected['fid'] / float(base_perf['fid'])\n",
    "    plot_results_selected['cmmd'] = plot_results_selected['cmmd'] / float(base_perf['cmmd'])\n",
    "    # plot_results_selected['ref_fid'] = plot_results_selected['ref_fid'] / float(base_perf['ref_fid'])\n",
    "    # plot_results_selected['ref_cmmd'] = plot_results_selected['ref_cmmd'] / float(base_perf['ref_cmmd'])\n",
    "    plot_results_selected['clipscore'] = plot_results_selected['clipscore'] / float(base_perf['clipscore'])\n",
    "    plot_results_selected['clipwinrate'] = plot_results_selected['clipwinrate'] / float(base_perf['clipwinrate'])\n",
    "\n",
    "\n",
    "# plot_results_selected_minsd = plot_results_selected.loc[plot_results['method'] != 'SDv1.5']"
   ]
  },
  {
   "cell_type": "code",
   "execution_count": 12,
   "metadata": {},
   "outputs": [
    {
     "data": {
      "text/plain": [
       "array(['C-CoDe (Ours) [block 5 r 0.8]', 'C-BoN [r 0.8]',\n",
       "       'C-SVDD-PM [block 1 r 0.8]'], dtype=object)"
      ]
     },
     "execution_count": 12,
     "metadata": {},
     "output_type": "execute_result"
    }
   ],
   "source": [
    "plot_results_selected.method.unique()"
   ]
  },
  {
   "cell_type": "code",
   "execution_count": 13,
   "metadata": {},
   "outputs": [
    {
     "data": {
      "text/html": [
       "<div>\n",
       "<style scoped>\n",
       "    .dataframe tbody tr th:only-of-type {\n",
       "        vertical-align: middle;\n",
       "    }\n",
       "\n",
       "    .dataframe tbody tr th {\n",
       "        vertical-align: top;\n",
       "    }\n",
       "\n",
       "    .dataframe thead th {\n",
       "        text-align: right;\n",
       "    }\n",
       "</style>\n",
       "<table border=\"1\" class=\"dataframe\">\n",
       "  <thead>\n",
       "    <tr style=\"text-align: right;\">\n",
       "      <th></th>\n",
       "      <th>method</th>\n",
       "      <th>exp_rew</th>\n",
       "      <th>win_rate</th>\n",
       "      <th>fid</th>\n",
       "      <th>cmmd</th>\n",
       "      <th>clipscore</th>\n",
       "      <th>clipwinrate</th>\n",
       "      <th>gram</th>\n",
       "      <th>param</th>\n",
       "      <th>kl</th>\n",
       "    </tr>\n",
       "  </thead>\n",
       "  <tbody>\n",
       "    <tr>\n",
       "      <th>0</th>\n",
       "      <td>SDv1.5</td>\n",
       "      <td>0.992253</td>\n",
       "      <td>0.5</td>\n",
       "      <td>80.1</td>\n",
       "      <td>0.04</td>\n",
       "      <td>0.766375</td>\n",
       "      <td>0.5</td>\n",
       "      <td>0.096717</td>\n",
       "      <td></td>\n",
       "      <td>0.0</td>\n",
       "    </tr>\n",
       "  </tbody>\n",
       "</table>\n",
       "</div>"
      ],
      "text/plain": [
       "   method   exp_rew  win_rate   fid  cmmd  clipscore  clipwinrate      gram  \\\n",
       "0  SDv1.5  0.992253       0.5  80.1  0.04   0.766375          0.5  0.096717   \n",
       "\n",
       "  param   kl  \n",
       "0        0.0  "
      ]
     },
     "execution_count": 13,
     "metadata": {},
     "output_type": "execute_result"
    }
   ],
   "source": [
    "base_perf"
   ]
  },
  {
   "cell_type": "code",
   "execution_count": 71,
   "metadata": {},
   "outputs": [
    {
     "data": {
      "text/html": [
       "<div>\n",
       "<style scoped>\n",
       "    .dataframe tbody tr th:only-of-type {\n",
       "        vertical-align: middle;\n",
       "    }\n",
       "\n",
       "    .dataframe tbody tr th {\n",
       "        vertical-align: top;\n",
       "    }\n",
       "\n",
       "    .dataframe thead th {\n",
       "        text-align: right;\n",
       "    }\n",
       "</style>\n",
       "<table border=\"1\" class=\"dataframe\">\n",
       "  <thead>\n",
       "    <tr style=\"text-align: right;\">\n",
       "      <th></th>\n",
       "      <th>method</th>\n",
       "      <th>exp_rew</th>\n",
       "      <th>win_rate</th>\n",
       "      <th>fid</th>\n",
       "      <th>cmmd</th>\n",
       "      <th>clipscore</th>\n",
       "      <th>clipwinrate</th>\n",
       "      <th>gram</th>\n",
       "      <th>param</th>\n",
       "      <th>kl_div</th>\n",
       "    </tr>\n",
       "  </thead>\n",
       "  <tbody>\n",
       "  </tbody>\n",
       "</table>\n",
       "</div>"
      ],
      "text/plain": [
       "Empty DataFrame\n",
       "Columns: [method, exp_rew, win_rate, fid, cmmd, clipscore, clipwinrate, gram, param, kl_div]\n",
       "Index: []"
      ]
     },
     "execution_count": 71,
     "metadata": {},
     "output_type": "execute_result"
    }
   ],
   "source": [
    "plot_results_selected[plot_results_selected.method == 'SDEdit']"
   ]
  },
  {
   "cell_type": "code",
   "execution_count": 77,
   "metadata": {},
   "outputs": [
    {
     "data": {
      "text/html": [
       "<div>\n",
       "<style scoped>\n",
       "    .dataframe tbody tr th:only-of-type {\n",
       "        vertical-align: middle;\n",
       "    }\n",
       "\n",
       "    .dataframe tbody tr th {\n",
       "        vertical-align: top;\n",
       "    }\n",
       "\n",
       "    .dataframe thead th {\n",
       "        text-align: right;\n",
       "    }\n",
       "</style>\n",
       "<table border=\"1\" class=\"dataframe\">\n",
       "  <thead>\n",
       "    <tr style=\"text-align: right;\">\n",
       "      <th></th>\n",
       "      <th>method</th>\n",
       "      <th>exp_rew</th>\n",
       "      <th>win_rate</th>\n",
       "      <th>fid</th>\n",
       "      <th>cmmd</th>\n",
       "      <th>clipscore</th>\n",
       "      <th>clipwinrate</th>\n",
       "      <th>gram</th>\n",
       "      <th>param</th>\n",
       "    </tr>\n",
       "  </thead>\n",
       "  <tbody>\n",
       "  </tbody>\n",
       "</table>\n",
       "</div>"
      ],
      "text/plain": [
       "Empty DataFrame\n",
       "Columns: [method, exp_rew, win_rate, fid, cmmd, clipscore, clipwinrate, gram, param]\n",
       "Index: []"
      ]
     },
     "execution_count": 77,
     "metadata": {},
     "output_type": "execute_result"
    }
   ],
   "source": [
    "plot_results_selected[plot_results_selected.method == 'C-UG']"
   ]
  },
  {
   "cell_type": "code",
   "execution_count": 72,
   "metadata": {},
   "outputs": [
    {
     "data": {
      "text/html": [
       "<div>\n",
       "<style scoped>\n",
       "    .dataframe tbody tr th:only-of-type {\n",
       "        vertical-align: middle;\n",
       "    }\n",
       "\n",
       "    .dataframe tbody tr th {\n",
       "        vertical-align: top;\n",
       "    }\n",
       "\n",
       "    .dataframe thead th {\n",
       "        text-align: right;\n",
       "    }\n",
       "</style>\n",
       "<table border=\"1\" class=\"dataframe\">\n",
       "  <thead>\n",
       "    <tr style=\"text-align: right;\">\n",
       "      <th></th>\n",
       "      <th>method</th>\n",
       "      <th>exp_rew</th>\n",
       "      <th>win_rate</th>\n",
       "      <th>fid</th>\n",
       "      <th>cmmd</th>\n",
       "      <th>clipscore</th>\n",
       "      <th>clipwinrate</th>\n",
       "      <th>gram</th>\n",
       "      <th>param</th>\n",
       "      <th>kl_div</th>\n",
       "    </tr>\n",
       "  </thead>\n",
       "  <tbody>\n",
       "  </tbody>\n",
       "</table>\n",
       "</div>"
      ],
      "text/plain": [
       "Empty DataFrame\n",
       "Columns: [method, exp_rew, win_rate, fid, cmmd, clipscore, clipwinrate, gram, param, kl_div]\n",
       "Index: []"
      ]
     },
     "execution_count": 72,
     "metadata": {},
     "output_type": "execute_result"
    }
   ],
   "source": [
    "plot_results_selected[plot_results_selected.method == 'C-CoDe (Ours) [block 5 r 0.6]']"
   ]
  },
  {
   "cell_type": "code",
   "execution_count": 17,
   "metadata": {},
   "outputs": [],
   "source": [
    "markers = {\n",
    "    'BoN': '^',\n",
    "    'C-BoN [r 0.5]': '^',\n",
    "    'C-BoN [r 0.6]': '^',\n",
    "    'C-BoN [r 0.7]': '^',\n",
    "    'C-BoN [r 0.8]': '^',\n",
    "    'SDEdit': 'D',\n",
    "    # # 'C-BoN': 'o',\n",
    "    'CoDe (Ours)': '^',\n",
    "    'C-CoDe (Ours)': 'o',\n",
    "    'CoDe (Ours) [block 5]': 'o',\n",
    "    # 'C-CoDe (Ours) [block 5 r 0.5]': 'D',\n",
    "    'C-CoDe (Ours) [block 5 r 0.6]': '^',\n",
    "    'C-CoDe (Ours) [block 5 r 0.7]': 'v',\n",
    "    'C-CoDe (Ours) [block 5 r 0.8]': 'D',\n",
    "    'C-CoDe (Ours) [block 50 r 0.6]': 'D',\n",
    "    'SVDD-PM (Li, 2024)': 'o',\n",
    "    'C-SVDD-PM [block 1 r 0.8]': 'o',\n",
    "    'UG (Bansal, 2024)': 's',\n",
    "    'DPS (Chung, 2023)': '^',\n",
    "    'C-UG': 'D'\n",
    "}\n",
    "\n",
    "label_map = {\n",
    "    'BoN': 'BoN',\n",
    "    'C-BoN [r 0.5]': r'BoN [$\\eta=0.5$]',\n",
    "    'C-BoN [r 0.6]': r'BoN [$\\eta=0.6$]',\n",
    "    'C-BoN [r 0.7]': r'BoN [$\\eta=0.7$]',\n",
    "    'C-BoN [r 0.8]': r'BoN [$\\eta$]',\n",
    "    'SDEdit': 'SDEdit',\n",
    "    'CoDe (Ours) [block 5]': r'CoDe',\n",
    "    'C-CoDe (Ours) [block 5 r 0.5]': r'CoDe [$\\eta$]',\n",
    "    'C-CoDe (Ours) [block 5 r 0.6]': r'CoDe [$\\eta$]',\n",
    "    'C-CoDe (Ours) [block 5 r 0.7]': r'CoDe [$\\eta$]',\n",
    "    'C-CoDe (Ours) [block 5 r 0.8]': r'CoDe [$\\eta$]',\n",
    "    'C-CoDe (Ours) [block 50 r 0.6]': r'CoDe [B=50] [$\\eta$]',\n",
    "    'SVDD-PM (Li, 2024)': 'SVDD-PM (Li, 2024)',\n",
    "    'C-SVDD-PM [block 1 r 0.8]': r'SVDD-PM [$\\eta$]',\n",
    "    'UG (Bansal, 2024)': 'UG (Bansal, 2024)',\n",
    "    'DPS (Chung, 2023)': 'DPS (Chung, 2023)',\n",
    "    'C-UG': 'C-UG'\n",
    "}\n",
    "\n",
    "\n",
    "label_map_abl = {\n",
    "    'BoN': 'BoN',\n",
    "    'C-BoN [r 0.5]': r'BoN [$\\eta=0.5$]',\n",
    "    'C-BoN [r 0.6]': r'BoN [$\\eta=0.6$]',\n",
    "    'C-BoN [r 0.7]': r'BoN [$\\eta=0.7$]',\n",
    "    'C-BoN [r 0.8]': r'BoN [$\\eta=0.8$]',\n",
    "    'SDEdit': 'SDEdit',\n",
    "    'CoDe (Ours)': '^',\n",
    "    'C-CoDe (Ours)': 'o',\n",
    "    'CoDe (Ours) [block 5]': r'CoDe (Ours) [$B=5$, $\\eta=1.0$]',\n",
    "    'C-CoDe (Ours) [block 5 r 0.5]': r'CoDe (Ours) [$B=5$, $\\eta=0.5$]',\n",
    "    'C-CoDe (Ours) [block 5 r 0.6]': r'CoDe (Ours) [$B=5$, $\\eta=0.6$]',\n",
    "    'C-CoDe (Ours) [block 5 r 0.7]': r'CoDe (Ours) [$B=5$, $\\eta=0.7$]',\n",
    "    'C-CoDe (Ours) [block 5 r 0.8]': r'CoDe (Ours) [$B=5$, $\\eta=0.8$]',\n",
    "    'C-CoDe (Ours) [block 50 r 0.6]': r'CoDe (Ours) [$B=50$, $\\eta=0.6$]',\n",
    "    'SVDD-PM (Li, 2024)': 'SVDD-PM (Li, 2024)',\n",
    "    'C-SVDD-PM [block 1 r 0.8]': r'SVDD-PM [$B=1$, $\\eta$]',\n",
    "    'UG (Bansal, 2024)': 'UG (Bansal, 2024)',\n",
    "    'DPS (Chung, 2023)': 'DPS (Chung, 2023)',\n",
    "    'C-UG': 'C-UG'\n",
    "}\n",
    "\n",
    "\n",
    "palette = {\n",
    "    'BoN': sns.color_palette(\"Paired\")[5],\n",
    "    'C-BoN [r 0.5]': sns.color_palette(\"Paired\")[6],\n",
    "    'C-BoN [r 0.6]': sns.color_palette(\"Paired\")[6],\n",
    "    'C-BoN [r 0.7]': sns.color_palette(\"Paired\")[6],\n",
    "    'C-BoN [r 0.8]': sns.color_palette(\"Paired\")[6],\n",
    "    'SDEdit': sns.color_palette(\"Paired\")[2],\n",
    "    'CoDe (Ours)': sns.color_palette(\"Paired\")[3],\n",
    "    'C-CoDe (Ours)': sns.color_palette(\"Paired\")[1],\n",
    "    'CoDe (Ours) [block 5]': sns.color_palette(\"Paired\")[3],\n",
    "    'C-CoDe (Ours) [block 50 r 0.6]': sns.color_palette(\"Paired\")[9],\n",
    "    'C-CoDe (Ours) [block 5 r 0.6]': sns.color_palette(\"Paired\")[1],\n",
    "    'C-CoDe (Ours) [block 5 r 0.7]': sns.color_palette(\"Paired\")[1],\n",
    "    'C-CoDe (Ours) [block 5 r 0.8]': sns.color_palette(\"Paired\")[11],\n",
    "    'SVDD-PM (Li, 2024)': sns.color_palette(\"Paired\")[9],\n",
    "    'C-SVDD-PM [block 1 r 0.8]': sns.color_palette(\"Paired\")[9],\n",
    "    'UG (Bansal, 2024)': sns.color_palette(\"Paired\")[7],\n",
    "    'DPS (Chung, 2023)': sns.color_palette(\"Paired\")[11],\n",
    "    'C-UG': sns.color_palette(\"Paired\")[9]\n",
    "}\n",
    "\n",
    "\n",
    "linestyles = {\n",
    "    'BoN': '--',\n",
    "    'C-BoN [r 0.5]': '--',\n",
    "    'C-BoN [r 0.6]': '--',\n",
    "    'C-BoN [r 0.7]': '--',\n",
    "    'C-BoN [r 0.8]': '--',\n",
    "    'SDEdit': '-',\n",
    "    'CoDe (Ours) [block 5]': '--',\n",
    "    'C-CoDe (Ours) [block 50 r 0.6]': '-',\n",
    "    'C-CoDe (Ours) [block 5 r 0.6]': '-',\n",
    "    'C-CoDe (Ours) [block 5 r 0.7]': '-',\n",
    "    'C-CoDe (Ours) [block 5 r 0.8]': '-',\n",
    "    'SVDD-PM (Li, 2024)': '--',\n",
    "    'C-SVDD-PM [block 1 r 0.8]': '--',\n",
    "    'UG (Bansal, 2024)': '-',\n",
    "    'DPS (Chung, 2023)': '--',\n",
    "    'C-UG': '-'\n",
    "}"
   ]
  },
  {
   "cell_type": "code",
   "execution_count": 18,
   "metadata": {},
   "outputs": [],
   "source": [
    "# method_labels = {\n",
    "#     'Best-of-N': 'BoN',\n",
    "#     # 'SDEdit \\+ BoN': 'C-BoN', \n",
    "#     r'CoDe.*': r'CoDe (Ours)',\n",
    "#     r'C-CoDe.*': 'C-CoDe (Ours)',\n",
    "# }\n",
    "\n",
    "# plot_results_selected['method'] = plot_results_selected['method'].replace(regex=method_labels)"
   ]
  },
  {
   "cell_type": "code",
   "execution_count": 168,
   "metadata": {},
   "outputs": [
    {
     "data": {
      "image/png": "[encoded data removed]",
      "text/plain": [
       "<Figure size 700x500 with 1 Axes>"
      ]
     },
     "metadata": {},
     "output_type": "display_data"
    }
   ],
   "source": [
    "mapping={\n",
    "    \"exp_rew\": f\"{'(Normalized)' if normalize else ''} Image Alignment\",\n",
    "    \"kl\": \"KL Divergence\",\n",
    "    \"fid\": \"FID\",\n",
    "    \"cmmd\": \"CMMD\",\n",
    "    \"ref_fid\": \"Reference FID\",\n",
    "    \"ref_cmmd\": \"Reference CMMD\",\n",
    "    \"win_rate\": \"Win Rate (Reference Align)\",\n",
    "    \"method\": \"Guidance Method\",\n",
    "    \"clipscore\": f\"T-CLIP\",\n",
    "    \"gram\": \"I-Gram\",\n",
    "    \"clipwinrate\": \"Win Rate (Text Align)\"\n",
    "}\n",
    "\n",
    "sns.set_style({'legend.frameon':False})\n",
    "\n",
    "# custom_palette = sns.color_palette(\"bright\")\n",
    "# c_length = len(custom_palette)\n",
    "\n",
    "for perf in ['gram']:\n",
    "    for div in ['clipscore']:\n",
    "\n",
    "        fig, ax = plt.subplots(figsize=(7,5))\n",
    "\n",
    "        # g = sns.lineplot(plot_results_selected, x=div, y=perf, hue='method', \n",
    "        #                  style='method', linestyle='-',ax=ax, sort=False, markers=markers, markersize=10)\n",
    "\n",
    "        for i, method in enumerate(plot_results_selected.method.unique().tolist()):\n",
    "        \n",
    "            curr_method = plot_results_selected.loc[plot_results['method'] == method]\n",
    "\n",
    "            if method in ['C-CoDe (Ours) [block 5 r 0.8]']:      \n",
    "                g = sns.lineplot(x=curr_method[div], y=curr_method[perf], label=label_map_abl[method], c=palette[method], linestyle=linestyles[method], sort=False,\n",
    "                                marker=markers[method], ax=ax, markersize=6, fillstyle='none', markeredgecolor=None, markeredgewidth=2)\n",
    "            else:\n",
    "                g = sns.lineplot(x=curr_method[div], y=curr_method[perf], label=label_map_abl[method], c=palette[method], linestyle=linestyles[method], sort=False,\n",
    "                                marker=markers[method], ax=ax, markersize=7, fillstyle='none', markeredgecolor=None, markeredgewidth=2)\n",
    "        \n",
    "\n",
    "        plt.xlabel(mapping[div], fontsize=16)\n",
    "        plt.ylabel(mapping[perf], fontsize=16)\n",
    "        plt.xticks(fontsize=14)\n",
    "        plt.yticks(fontsize=14)\n",
    "\n",
    "        # noise ratio\n",
    "        # x1, x2, y1, y2 = 0.94, 0.99, 1.2, 1.9  # subregion of the original image (smaller box)\n",
    "\n",
    "        # block\n",
    "        x1, x2, y1, y2 = 0.875, 0.905, 2.65, 3.0  # subregion of the original image (smaller box)\n",
    "\n",
    "        axins = ax.inset_axes(\n",
    "            [0.20, 0.1, .3, .4], # subregion of the original image (bigger box)\n",
    "            xlim=(x1, x2), ylim=(y1, y2)) #, xticklabels=[], yticklabels=[])\n",
    "        ax.indicate_inset_zoom(axins, edgecolor=\"black\")\n",
    "\n",
    "        for i, method in enumerate(plot_results_selected.method.unique().tolist()):\n",
    "            curr_method = plot_results_selected.loc[plot_results['method'] == method]\n",
    "            if method in ['C-CoDe (Ours) [block 5 r 0.8]']:      \n",
    "                g = sns.lineplot(x=curr_method[div], y=curr_method[perf], label=method, c=palette[method], linestyle=linestyles[method], sort=False,\n",
    "                                marker=markers[method], ax=axins, markersize=8, fillstyle='none', markeredgecolor=None, markeredgewidth=2, legend=False)\n",
    "            else:\n",
    "                g = sns.lineplot(x=curr_method[div], y=curr_method[perf], label=method, c=palette[method], linestyle=linestyles[method], sort=False,\n",
    "                                marker=markers[method], ax=axins, markersize=9, fillstyle='none', markeredgecolor=None, markeredgewidth=2, legend=False)\n",
    "        \n",
    "        axins.set_xlabel('')\n",
    "        axins.set_ylabel('')\n",
    "        \n",
    "\n",
    "        textstr = 'Ablation of block size ' + r'$B$'\n",
    "        # textstr = 'Ablation of noise ratio ' + r'$\\eta$'\n",
    "\n",
    "        # these are matplotlib.patch.Patch properties\n",
    "        props = dict(boxstyle='round', facecolor='white', alpha=0.5)\n",
    "\n",
    "        # place a text box in upper left in axes coords\n",
    "\n",
    "        # Noise\n",
    "        # ax.text(0.62, 0.66, textstr, transform=ax.transAxes, fontsize=12,\n",
    "        #         verticalalignment='top', bbox=props)\n",
    "\n",
    "        # Block\n",
    "        ax.text(0.62, 0.72, textstr, transform=ax.transAxes, fontsize=12,\n",
    "                verticalalignment='top', bbox=props)\n",
    "        \n",
    "    \n",
    "        plt.tight_layout()\n",
    "        plt.show()\n",
    "        # plt.savefig(OUTPUTS_DIR.joinpath('new_plots').joinpath(f'{perf}-vs-{div}_{task}_r.png'), dpi=300)\n",
    "        # plt.close()\n",
    "\n",
    "        break"
   ]
  },
  {
   "cell_type": "code",
   "execution_count": 21,
   "metadata": {},
   "outputs": [
    {
     "data": {
      "image/png": "[encoded data removed]",
      "text/plain": [
       "<Figure size 700x500 with 1 Axes>"
      ]
     },
     "metadata": {},
     "output_type": "display_data"
    }
   ],
   "source": [
    "mapping={\n",
    "    # \"exp_rew\": f\"{'(Normalized)' if normalize else ''} Exp. Reward\",\n",
    "    \"exp_rew\": f\"Compressibility Reward\",\n",
    "    \"kl\": \"KL Divergence\",\n",
    "    \"fid\": \"Base FID\",\n",
    "    \"cmmd\": \"Base CMMD\",\n",
    "    \"ref_fid\": \"Reference FID\",\n",
    "    \"ref_cmmd\": \"Reference CMMD\",\n",
    "    \"win_rate\": \"Win Rate\",\n",
    "    \"method\": \"Guidance Method\",\n",
    "    \"clipscore\": f\"T-CLIP\",\n",
    "    \"gram\": f\"{'(Normalized)' if normalize else ''} I-Gram\",\n",
    "    \"clipwinrate\": \"Win Rate (Text Align)\"\n",
    "}\n",
    "\n",
    "sns.set_style({'legend.frameon':False})\n",
    "\n",
    "# custom_palette = sns.color_palette(\"bright\")\n",
    "# c_length = len(custom_palette)\n",
    "\n",
    "for perf in ['exp_rew']: #['exp_rew', \"win_rate\"]: # ['fid'] #, \"gram\"\n",
    "    for div in ['kl']: #[\"fid\", 'cmmd', \"clipscore\"]: # ['ref_fid']\n",
    "\n",
    "        \n",
    "        fig, ax = plt.subplots(figsize=(7,5))\n",
    "\n",
    "        # g = sns.lineplot(plot_results_selected, x=div, y=perf, hue='method', \n",
    "        #                  style='method', linestyle='-',ax=ax, sort=False, markers=markers, markersize=10)\n",
    "\n",
    "        for i, method in enumerate(plot_results_selected.method.unique().tolist()):\n",
    "        \n",
    "            curr_method = plot_results_selected.loc[plot_results_selected['method'] == method]\n",
    "            if task == 'compress' and (div =='gram' or perf == 'gram'):\n",
    "                curr_method = curr_method[curr_method.param != '']\n",
    "            try:\n",
    "                if method == 'SDEdit' or method == 'C-UG': \n",
    "                    divs = np.roll(np.array(curr_method[div]), -1)\n",
    "                    perfs = np.roll(np.array(curr_method[perf]), -1)\n",
    "                else:\n",
    "                    divs = np.array(curr_method[div])\n",
    "                    perfs = np.array(curr_method[perf])\n",
    "\n",
    "                g = sns.lineplot(x=divs, y=perfs, c=palette[method], linestyle=linestyles[method], sort=False,\n",
    "                                marker=markers[method], ax=ax, markersize=7, fillstyle='none', markeredgecolor=None, markeredgewidth=2, label=label_map[method])\n",
    "            except Exception as e:\n",
    "                print(method)\n",
    "                print(e)\n",
    "                break\n",
    "\n",
    "        plt.xlabel(mapping[div], fontsize=16)\n",
    "        plt.ylabel(mapping[perf], fontsize=16)\n",
    "        plt.xticks(fontsize=14)\n",
    "        plt.yticks(fontsize=14)\n",
    "\n",
    "        # handles, l_labels = ax.get_legend_handles_labels()\n",
    "        plt.legend(fontsize=14, loc=3) if div == 'clipscore' else plt.legend(fontsize=14, loc=4)\n",
    "\n",
    "        plt.tight_layout()\n",
    "        # plt.show()\n",
    "        plt.savefig(OUTPUTS_DIR.joinpath('plots_revised_add').joinpath(f'{perf}-vs-{div}_{task}.png'), dpi=300)\n",
    "        # plt.close()\n",
    "\n",
    "        # break"
   ]
  },
  {
   "cell_type": "code",
   "execution_count": 95,
   "metadata": {},
   "outputs": [
    {
     "data": {
      "text/html": [
       "<div>\n",
       "<style scoped>\n",
       "    .dataframe tbody tr th:only-of-type {\n",
       "        vertical-align: middle;\n",
       "    }\n",
       "\n",
       "    .dataframe tbody tr th {\n",
       "        vertical-align: top;\n",
       "    }\n",
       "\n",
       "    .dataframe thead th {\n",
       "        text-align: right;\n",
       "    }\n",
       "</style>\n",
       "<table border=\"1\" class=\"dataframe\">\n",
       "  <thead>\n",
       "    <tr style=\"text-align: right;\">\n",
       "      <th></th>\n",
       "      <th>method</th>\n",
       "      <th>exp_rew</th>\n",
       "      <th>win_rate</th>\n",
       "      <th>fid</th>\n",
       "      <th>cmmd</th>\n",
       "      <th>clipscore</th>\n",
       "      <th>clipwinrate</th>\n",
       "      <th>gram</th>\n",
       "      <th>param</th>\n",
       "      <th>kl</th>\n",
       "    </tr>\n",
       "  </thead>\n",
       "  <tbody>\n",
       "    <tr>\n",
       "      <th>0</th>\n",
       "      <td>SDv1.5</td>\n",
       "      <td>NaN</td>\n",
       "      <td>0.500000</td>\n",
       "      <td>80.100000</td>\n",
       "      <td>0.040000</td>\n",
       "      <td>0.766375</td>\n",
       "      <td>0.500000</td>\n",
       "      <td>0.096717</td>\n",
       "      <td></td>\n",
       "      <td>0.000000</td>\n",
       "    </tr>\n",
       "    <tr>\n",
       "      <th>1</th>\n",
       "      <td>C-CoDe (Ours) [block 5 r 0.8]</td>\n",
       "      <td>NaN</td>\n",
       "      <td>0.500000</td>\n",
       "      <td>80.100000</td>\n",
       "      <td>0.040000</td>\n",
       "      <td>0.766375</td>\n",
       "      <td>0.500000</td>\n",
       "      <td>0.096717</td>\n",
       "      <td></td>\n",
       "      <td>0.000000</td>\n",
       "    </tr>\n",
       "    <tr>\n",
       "      <th>2</th>\n",
       "      <td>C-CoDe (Ours) [block 5 r 0.8]</td>\n",
       "      <td>NaN</td>\n",
       "      <td>0.912500</td>\n",
       "      <td>182.755588</td>\n",
       "      <td>1.413667</td>\n",
       "      <td>0.756217</td>\n",
       "      <td>0.350000</td>\n",
       "      <td>0.119364</td>\n",
       "      <td>10_b5_r8</td>\n",
       "      <td>112.206807</td>\n",
       "    </tr>\n",
       "    <tr>\n",
       "      <th>3</th>\n",
       "      <td>C-CoDe (Ours) [block 5 r 0.8]</td>\n",
       "      <td>NaN</td>\n",
       "      <td>0.925000</td>\n",
       "      <td>201.471367</td>\n",
       "      <td>1.573000</td>\n",
       "      <td>0.754525</td>\n",
       "      <td>0.386111</td>\n",
       "      <td>0.123119</td>\n",
       "      <td>20_b5_r8</td>\n",
       "      <td>163.658582</td>\n",
       "    </tr>\n",
       "    <tr>\n",
       "      <th>4</th>\n",
       "      <td>C-CoDe (Ours) [block 5 r 0.8]</td>\n",
       "      <td>NaN</td>\n",
       "      <td>0.929167</td>\n",
       "      <td>193.627110</td>\n",
       "      <td>1.623417</td>\n",
       "      <td>0.751067</td>\n",
       "      <td>0.341667</td>\n",
       "      <td>0.120929</td>\n",
       "      <td>30_b5_r8</td>\n",
       "      <td>194.762457</td>\n",
       "    </tr>\n",
       "    <tr>\n",
       "      <th>5</th>\n",
       "      <td>C-CoDe (Ours) [block 5 r 0.8]</td>\n",
       "      <td>NaN</td>\n",
       "      <td>0.941667</td>\n",
       "      <td>215.280914</td>\n",
       "      <td>1.777417</td>\n",
       "      <td>0.745925</td>\n",
       "      <td>0.391667</td>\n",
       "      <td>0.115891</td>\n",
       "      <td>40_b5_r8</td>\n",
       "      <td>217.110356</td>\n",
       "    </tr>\n",
       "    <tr>\n",
       "      <th>6</th>\n",
       "      <td>C-CoDe (Ours) [block 5 r 0.8]</td>\n",
       "      <td>NaN</td>\n",
       "      <td>0.950000</td>\n",
       "      <td>249.923359</td>\n",
       "      <td>1.964083</td>\n",
       "      <td>0.736942</td>\n",
       "      <td>0.333333</td>\n",
       "      <td>0.116269</td>\n",
       "      <td>100_b5_r8</td>\n",
       "      <td>289.213615</td>\n",
       "    </tr>\n",
       "    <tr>\n",
       "      <th>7</th>\n",
       "      <td>C-BoN [r 0.8]</td>\n",
       "      <td>NaN</td>\n",
       "      <td>0.500000</td>\n",
       "      <td>80.100000</td>\n",
       "      <td>0.040000</td>\n",
       "      <td>0.766375</td>\n",
       "      <td>0.500000</td>\n",
       "      <td>0.096717</td>\n",
       "      <td></td>\n",
       "      <td>0.000000</td>\n",
       "    </tr>\n",
       "    <tr>\n",
       "      <th>8</th>\n",
       "      <td>C-BoN [r 0.8]</td>\n",
       "      <td>NaN</td>\n",
       "      <td>0.679167</td>\n",
       "      <td>196.014788</td>\n",
       "      <td>1.334750</td>\n",
       "      <td>0.763183</td>\n",
       "      <td>0.450000</td>\n",
       "      <td>0.131831</td>\n",
       "      <td>10_r8</td>\n",
       "      <td>1.402585</td>\n",
       "    </tr>\n",
       "    <tr>\n",
       "      <th>9</th>\n",
       "      <td>C-BoN [r 0.8]</td>\n",
       "      <td>NaN</td>\n",
       "      <td>0.704167</td>\n",
       "      <td>195.034031</td>\n",
       "      <td>1.307917</td>\n",
       "      <td>0.762067</td>\n",
       "      <td>0.425000</td>\n",
       "      <td>0.131768</td>\n",
       "      <td>20_r8</td>\n",
       "      <td>2.045732</td>\n",
       "    </tr>\n",
       "    <tr>\n",
       "      <th>10</th>\n",
       "      <td>C-BoN [r 0.8]</td>\n",
       "      <td>NaN</td>\n",
       "      <td>0.756481</td>\n",
       "      <td>191.697476</td>\n",
       "      <td>1.275583</td>\n",
       "      <td>0.761167</td>\n",
       "      <td>0.409722</td>\n",
       "      <td>0.128259</td>\n",
       "      <td>30_r8</td>\n",
       "      <td>2.434531</td>\n",
       "    </tr>\n",
       "    <tr>\n",
       "      <th>11</th>\n",
       "      <td>C-BoN [r 0.8]</td>\n",
       "      <td>NaN</td>\n",
       "      <td>0.738333</td>\n",
       "      <td>181.697107</td>\n",
       "      <td>1.235083</td>\n",
       "      <td>0.761008</td>\n",
       "      <td>0.435000</td>\n",
       "      <td>0.128391</td>\n",
       "      <td>40_r8</td>\n",
       "      <td>2.713879</td>\n",
       "    </tr>\n",
       "    <tr>\n",
       "      <th>12</th>\n",
       "      <td>C-BoN [r 0.8]</td>\n",
       "      <td>NaN</td>\n",
       "      <td>0.829167</td>\n",
       "      <td>210.791166</td>\n",
       "      <td>1.386750</td>\n",
       "      <td>0.759150</td>\n",
       "      <td>0.433333</td>\n",
       "      <td>0.122278</td>\n",
       "      <td>100_r8</td>\n",
       "      <td>3.615170</td>\n",
       "    </tr>\n",
       "    <tr>\n",
       "      <th>13</th>\n",
       "      <td>C-SVDD-PM [block 1 r 0.8]</td>\n",
       "      <td>NaN</td>\n",
       "      <td>0.500000</td>\n",
       "      <td>80.100000</td>\n",
       "      <td>0.040000</td>\n",
       "      <td>0.766375</td>\n",
       "      <td>0.500000</td>\n",
       "      <td>0.096717</td>\n",
       "      <td></td>\n",
       "      <td>0.000000</td>\n",
       "    </tr>\n",
       "    <tr>\n",
       "      <th>14</th>\n",
       "      <td>C-SVDD-PM [block 1 r 0.8]</td>\n",
       "      <td>NaN</td>\n",
       "      <td>0.879167</td>\n",
       "      <td>163.041832</td>\n",
       "      <td>1.133417</td>\n",
       "      <td>0.754592</td>\n",
       "      <td>0.337500</td>\n",
       "      <td>0.118840</td>\n",
       "      <td>2_b1_r8</td>\n",
       "      <td>77.258872</td>\n",
       "    </tr>\n",
       "    <tr>\n",
       "      <th>15</th>\n",
       "      <td>C-SVDD-PM [block 1 r 0.8]</td>\n",
       "      <td>NaN</td>\n",
       "      <td>0.908333</td>\n",
       "      <td>178.148005</td>\n",
       "      <td>1.332167</td>\n",
       "      <td>0.758333</td>\n",
       "      <td>0.375000</td>\n",
       "      <td>0.114238</td>\n",
       "      <td>3_b1_r8</td>\n",
       "      <td>172.778249</td>\n",
       "    </tr>\n",
       "    <tr>\n",
       "      <th>16</th>\n",
       "      <td>C-SVDD-PM [block 1 r 0.8]</td>\n",
       "      <td>NaN</td>\n",
       "      <td>0.950000</td>\n",
       "      <td>221.050557</td>\n",
       "      <td>1.605167</td>\n",
       "      <td>0.747092</td>\n",
       "      <td>0.366667</td>\n",
       "      <td>0.116987</td>\n",
       "      <td>5_b1_r8</td>\n",
       "      <td>323.775165</td>\n",
       "    </tr>\n",
       "    <tr>\n",
       "      <th>17</th>\n",
       "      <td>C-SVDD-PM [block 1 r 0.8]</td>\n",
       "      <td>NaN</td>\n",
       "      <td>0.958333</td>\n",
       "      <td>236.598253</td>\n",
       "      <td>1.860250</td>\n",
       "      <td>0.728725</td>\n",
       "      <td>0.283333</td>\n",
       "      <td>0.116781</td>\n",
       "      <td>7_b1_r8</td>\n",
       "      <td>435.506917</td>\n",
       "    </tr>\n",
       "    <tr>\n",
       "      <th>18</th>\n",
       "      <td>C-SVDD-PM [block 1 r 0.8]</td>\n",
       "      <td>NaN</td>\n",
       "      <td>0.945833</td>\n",
       "      <td>263.553900</td>\n",
       "      <td>2.185917</td>\n",
       "      <td>0.719575</td>\n",
       "      <td>0.308333</td>\n",
       "      <td>0.114405</td>\n",
       "      <td>10_b1_r8</td>\n",
       "      <td>561.034037</td>\n",
       "    </tr>\n",
       "    <tr>\n",
       "      <th>19</th>\n",
       "      <td>C-SVDD-PM [block 1 r 0.8]</td>\n",
       "      <td>NaN</td>\n",
       "      <td>0.937500</td>\n",
       "      <td>271.545861</td>\n",
       "      <td>2.448083</td>\n",
       "      <td>0.696025</td>\n",
       "      <td>0.191667</td>\n",
       "      <td>0.111583</td>\n",
       "      <td>20_b1_r8</td>\n",
       "      <td>818.292909</td>\n",
       "    </tr>\n",
       "    <tr>\n",
       "      <th>20</th>\n",
       "      <td>C-SVDD-PM [block 1 r 0.8]</td>\n",
       "      <td>NaN</td>\n",
       "      <td>0.950000</td>\n",
       "      <td>274.426128</td>\n",
       "      <td>2.663583</td>\n",
       "      <td>0.688792</td>\n",
       "      <td>0.154167</td>\n",
       "      <td>0.111665</td>\n",
       "      <td>30_b1_r8</td>\n",
       "      <td>973.812286</td>\n",
       "    </tr>\n",
       "    <tr>\n",
       "      <th>21</th>\n",
       "      <td>C-SVDD-PM [block 1 r 0.8]</td>\n",
       "      <td>NaN</td>\n",
       "      <td>0.945833</td>\n",
       "      <td>289.501174</td>\n",
       "      <td>2.735750</td>\n",
       "      <td>0.685733</td>\n",
       "      <td>0.183333</td>\n",
       "      <td>0.113087</td>\n",
       "      <td>40_b1_r8</td>\n",
       "      <td>1085.551782</td>\n",
       "    </tr>\n",
       "    <tr>\n",
       "      <th>22</th>\n",
       "      <td>C-SVDD-PM [block 1 r 0.8]</td>\n",
       "      <td>NaN</td>\n",
       "      <td>1.000000</td>\n",
       "      <td>307.716032</td>\n",
       "      <td>2.523600</td>\n",
       "      <td>0.674200</td>\n",
       "      <td>0.100000</td>\n",
       "      <td>0.093164</td>\n",
       "      <td>100_b1_r8</td>\n",
       "      <td>1446.068074</td>\n",
       "    </tr>\n",
       "  </tbody>\n",
       "</table>\n",
       "</div>"
      ],
      "text/plain": [
       "                           method  exp_rew  win_rate         fid      cmmd  \\\n",
       "0                          SDv1.5      NaN  0.500000   80.100000  0.040000   \n",
       "1   C-CoDe (Ours) [block 5 r 0.8]      NaN  0.500000   80.100000  0.040000   \n",
       "2   C-CoDe (Ours) [block 5 r 0.8]      NaN  0.912500  182.755588  1.413667   \n",
       "3   C-CoDe (Ours) [block 5 r 0.8]      NaN  0.925000  201.471367  1.573000   \n",
       "4   C-CoDe (Ours) [block 5 r 0.8]      NaN  0.929167  193.627110  1.623417   \n",
       "5   C-CoDe (Ours) [block 5 r 0.8]      NaN  0.941667  215.280914  1.777417   \n",
       "6   C-CoDe (Ours) [block 5 r 0.8]      NaN  0.950000  249.923359  1.964083   \n",
       "7                   C-BoN [r 0.8]      NaN  0.500000   80.100000  0.040000   \n",
       "8                   C-BoN [r 0.8]      NaN  0.679167  196.014788  1.334750   \n",
       "9                   C-BoN [r 0.8]      NaN  0.704167  195.034031  1.307917   \n",
       "10                  C-BoN [r 0.8]      NaN  0.756481  191.697476  1.275583   \n",
       "11                  C-BoN [r 0.8]      NaN  0.738333  181.697107  1.235083   \n",
       "12                  C-BoN [r 0.8]      NaN  0.829167  210.791166  1.386750   \n",
       "13      C-SVDD-PM [block 1 r 0.8]      NaN  0.500000   80.100000  0.040000   \n",
       "14      C-SVDD-PM [block 1 r 0.8]      NaN  0.879167  163.041832  1.133417   \n",
       "15      C-SVDD-PM [block 1 r 0.8]      NaN  0.908333  178.148005  1.332167   \n",
       "16      C-SVDD-PM [block 1 r 0.8]      NaN  0.950000  221.050557  1.605167   \n",
       "17      C-SVDD-PM [block 1 r 0.8]      NaN  0.958333  236.598253  1.860250   \n",
       "18      C-SVDD-PM [block 1 r 0.8]      NaN  0.945833  263.553900  2.185917   \n",
       "19      C-SVDD-PM [block 1 r 0.8]      NaN  0.937500  271.545861  2.448083   \n",
       "20      C-SVDD-PM [block 1 r 0.8]      NaN  0.950000  274.426128  2.663583   \n",
       "21      C-SVDD-PM [block 1 r 0.8]      NaN  0.945833  289.501174  2.735750   \n",
       "22      C-SVDD-PM [block 1 r 0.8]      NaN  1.000000  307.716032  2.523600   \n",
       "\n",
       "    clipscore  clipwinrate      gram      param           kl  \n",
       "0    0.766375     0.500000  0.096717                0.000000  \n",
       "1    0.766375     0.500000  0.096717                0.000000  \n",
       "2    0.756217     0.350000  0.119364   10_b5_r8   112.206807  \n",
       "3    0.754525     0.386111  0.123119   20_b5_r8   163.658582  \n",
       "4    0.751067     0.341667  0.120929   30_b5_r8   194.762457  \n",
       "5    0.745925     0.391667  0.115891   40_b5_r8   217.110356  \n",
       "6    0.736942     0.333333  0.116269  100_b5_r8   289.213615  \n",
       "7    0.766375     0.500000  0.096717                0.000000  \n",
       "8    0.763183     0.450000  0.131831      10_r8     1.402585  \n",
       "9    0.762067     0.425000  0.131768      20_r8     2.045732  \n",
       "10   0.761167     0.409722  0.128259      30_r8     2.434531  \n",
       "11   0.761008     0.435000  0.128391      40_r8     2.713879  \n",
       "12   0.759150     0.433333  0.122278     100_r8     3.615170  \n",
       "13   0.766375     0.500000  0.096717                0.000000  \n",
       "14   0.754592     0.337500  0.118840    2_b1_r8    77.258872  \n",
       "15   0.758333     0.375000  0.114238    3_b1_r8   172.778249  \n",
       "16   0.747092     0.366667  0.116987    5_b1_r8   323.775165  \n",
       "17   0.728725     0.283333  0.116781    7_b1_r8   435.506917  \n",
       "18   0.719575     0.308333  0.114405   10_b1_r8   561.034037  \n",
       "19   0.696025     0.191667  0.111583   20_b1_r8   818.292909  \n",
       "20   0.688792     0.154167  0.111665   30_b1_r8   973.812286  \n",
       "21   0.685733     0.183333  0.113087   40_b1_r8  1085.551782  \n",
       "22   0.674200     0.100000  0.093164  100_b1_r8  1446.068074  "
      ]
     },
     "execution_count": 95,
     "metadata": {},
     "output_type": "execute_result"
    }
   ],
   "source": [
    "plot_results"
   ]
  },
  {
   "cell_type": "code",
   "execution_count": 54,
   "metadata": {},
   "outputs": [
    {
     "data": {
      "text/plain": [
       "''"
      ]
     },
     "execution_count": 54,
     "metadata": {},
     "output_type": "execute_result"
    }
   ],
   "source": [
    "plot_results_selected.iloc[0].param"
   ]
  },
  {
   "cell_type": "code",
   "execution_count": 149,
   "metadata": {},
   "outputs": [
    {
     "data": {
      "application/vnd.plotly.v1+json": {
       "config": {
        "plotlyServerURL": "https://plot.ly"
       },
       "data": [
        {
         "customdata": [
          [
           1,
           1,
           1,
           1,
           1,
           1,
           1,
           1,
           1,
           ""
          ],
          [
           1.180358765339298,
           2.4504310344827585,
           1.156503104491803,
           1.876666666666667,
           1.0030040225095933,
           1.0233333333333332,
           0.9870579265915854,
           0.9647097067810936,
           1.1309992927506352,
           "5_b5"
          ],
          [
           1.2349653896537502,
           3.2844827586206895,
           1.1760421532937733,
           1.9833333333333334,
           1.0006275526475519,
           1.0133333333333334,
           0.9559436117168991,
           0.9569988947402641,
           1.229414748208635,
           "10_b5"
          ],
          [
           1.2719165410817694,
           4.105603448275861,
           1.244970428013071,
           1.9966666666666668,
           1.0012448175467834,
           1.0233333333333332,
           0.9539371283702883,
           0.9348546908523504,
           1.2726270960058652,
           "20_b5"
          ],
          [
           1.2921773684460187,
           4.704741379310344,
           1.31243886867177,
           1.99,
           1.000257193708013,
           0.9700000000000003,
           0.9477902856133462,
           0.9307587283011507,
           1.3117755254062564,
           "30_b5"
          ],
          [
           1.3081734786590813,
           5.051724137931034,
           1.3442437860759915,
           1.9933333333333334,
           1.0019340966842585,
           1.0166666666666666,
           0.9503358101632684,
           0.9268318054742865,
           1.3054462908242337,
           "40_b5"
          ],
          [
           1.3462941204374366,
           7.403017241379309,
           1.487609937241581,
           2,
           1.001429997016553,
           0.9500000000000001,
           0.9363298413728511,
           0.9050516871464795,
           1.4226814047549279,
           "100_b5"
          ]
         ],
         "hovertemplate": "Expected Rewards: %{customdata[0]}<br>FID: %{customdata[2]}<br>CMMD: %{customdata[1]}<br>Win Rate (Reference Align): %{customdata[3]}<br>Clipscore: %{customdata[4]}<br>Win Rate (Text Align): %{customdata[5]}<br>Target FID: %{customdata[6]}<br>Target CMMD: %{customdata[7]}<br>Gram: %{customdata[8]}<br>Params: %{customdata[9]}",
         "legendgroup": "CoDe (Ours)",
         "line": {
          "color": "#636efa",
          "dash": "solid"
         },
         "marker": {
          "symbol": "circle"
         },
         "mode": "lines+markers",
         "name": "CoDe (Ours)",
         "orientation": "v",
         "showlegend": true,
         "type": "scatter",
         "x": [
          1,
          1.156503104491803,
          1.1760421532937733,
          1.244970428013071,
          1.31243886867177,
          1.3442437860759915,
          1.487609937241581
         ],
         "xaxis": "x",
         "y": [
          1,
          1.876666666666667,
          1.9833333333333334,
          1.9966666666666668,
          1.99,
          1.9933333333333334,
          2
         ],
         "yaxis": "y"
        },
        {
         "customdata": [
          [
           1,
           1,
           1,
           1,
           1,
           1,
           1,
           1,
           1,
           ""
          ],
          [
           1.3472820752341716,
           71.19181034482759,
           3.1019867749295,
           1.9799999999999998,
           0.8990360379823669,
           0.3066666666666667,
           0.8111586482584466,
           0.723177946817502,
           2.6379831742904853,
           "5_b5_r6"
          ],
          [
           1.3990771790652103,
           74.0280172413793,
           3.2411617429147115,
           1.9966666666666668,
           0.8926473462753206,
           0.2833333333333334,
           0.7989921225335881,
           0.7012027826539237,
           2.7220208738589573,
           "10_b5_r6"
          ],
          [
           1.4492941094905694,
           78.76508620689654,
           3.34953353740364,
           2,
           0.8783988148513933,
           0.2733333333333333,
           0.7637519478519263,
           0.6787985176516481,
           2.8636383213830547,
           "20_b5_r6"
          ],
          [
           1.465059423246038,
           81.0581896551724,
           3.4543552918132003,
           2,
           0.8712796930135901,
           0.18333333333333335,
           0.7558221535141988,
           0.6802418568363564,
           2.9176331035067093,
           "30_b5_r6"
          ],
          [
           1.4812005794541891,
           81.17887931034483,
           3.481397044050363,
           2,
           0.8665164655411867,
           0.19999999999999998,
           0.7402859362573109,
           0.6652493335933943,
           2.9466743393220054,
           "40_b5_r6"
          ],
          [
           1.5220980766353704,
           84.44827586206895,
           3.640808636863022,
           2,
           0.8572163410594322,
           0.16666666666666666,
           0.7161542307101288,
           0.636746635459333,
           3.1555748548726656,
           "100_b5_r6"
          ]
         ],
         "hovertemplate": "Expected Rewards: %{customdata[0]}<br>FID: %{customdata[2]}<br>CMMD: %{customdata[1]}<br>Win Rate (Reference Align): %{customdata[3]}<br>Clipscore: %{customdata[4]}<br>Win Rate (Text Align): %{customdata[5]}<br>Target FID: %{customdata[6]}<br>Target CMMD: %{customdata[7]}<br>Gram: %{customdata[8]}<br>Params: %{customdata[9]}",
         "legendgroup": "C-CoDe (Ours)",
         "line": {
          "color": "#EF553B",
          "dash": "solid"
         },
         "marker": {
          "symbol": "diamond"
         },
         "mode": "lines+markers",
         "name": "C-CoDe (Ours)",
         "orientation": "v",
         "showlegend": true,
         "type": "scatter",
         "x": [
          1,
          3.1019867749295,
          3.2411617429147115,
          3.34953353740364,
          3.4543552918132003,
          3.481397044050363,
          3.640808636863022
         ],
         "xaxis": "x",
         "y": [
          1,
          1.9799999999999998,
          1.9966666666666668,
          2,
          2,
          2,
          2
         ],
         "yaxis": "y"
        },
        {
         "customdata": [
          [
           1,
           1,
           1,
           1,
           1,
           1,
           1,
           1,
           1,
           ""
          ],
          [
           1.1080629152967876,
           1.5754310344827587,
           1.101758865493275,
           1.7199999999999998,
           1.002829130788144,
           1.0433333333333332,
           0.9879335012354444,
           0.9815226578245887,
           1.0458055170157607,
           "10"
          ],
          [
           1.1325547069706001,
           1.6465517241379313,
           1.1139393804763855,
           1.8300000000000003,
           1.0014094215199119,
           1.0433333333333332,
           0.9898140653335105,
           0.9755542552499838,
           1.0599660379090365,
           "20"
          ],
          [
           1.1444749802792646,
           1.9396551724137934,
           1.1332801998467272,
           1.8806837606837605,
           1.0023558943654003,
           1.0054700854700855,
           0.9834898534464027,
           0.9976464469150248,
           1.0675127869163625,
           "30"
          ],
          [
           1.1455471939064883,
           2.246305418719212,
           1.3011049523330884,
           1.8961490683229811,
           0.994131574422306,
           1.0203726708074534,
           0.9807540800877121,
           1.055900136532085,
           1.0717066127227217,
           "40"
          ]
         ],
         "hovertemplate": "Expected Rewards: %{customdata[0]}<br>FID: %{customdata[2]}<br>CMMD: %{customdata[1]}<br>Win Rate (Reference Align): %{customdata[3]}<br>Clipscore: %{customdata[4]}<br>Win Rate (Text Align): %{customdata[5]}<br>Target FID: %{customdata[6]}<br>Target CMMD: %{customdata[7]}<br>Gram: %{customdata[8]}<br>Params: %{customdata[9]}",
         "legendgroup": "BoN",
         "line": {
          "color": "#00cc96",
          "dash": "solid"
         },
         "marker": {
          "symbol": "square"
         },
         "mode": "lines+markers",
         "name": "BoN",
         "orientation": "v",
         "showlegend": true,
         "type": "scatter",
         "x": [
          1,
          1.101758865493275,
          1.1139393804763855,
          1.1332801998467272,
          1.3011049523330884
         ],
         "xaxis": "x",
         "y": [
          1,
          1.7199999999999998,
          1.8300000000000003,
          1.8806837606837605,
          1.8961490683229811
         ],
         "yaxis": "y"
        },
        {
         "customdata": [
          [
           1,
           1,
           1,
           1,
           1,
           1,
           1,
           1,
           1,
           ""
          ],
          [
           1.1013889750447907,
           1.6939655172413792,
           1.1200856356643474,
           1.5933333333333335,
           0.9975618036480355,
           0.9500000000000001,
           0.9966325149278616,
           0.9851375073142186,
           1.0368546349545937,
           "05"
          ],
          [
           1.1335399250504468,
           2.344827586206897,
           1.1503756076978862,
           1.72,
           0.996162669876444,
           0.9600000000000001,
           0.993720112747586,
           0.9760483713672712,
           1.0529514422120783,
           "07"
          ],
          [
           1.1608395882518219,
           3.107758620689655,
           1.1754067513032869,
           1.8133333333333332,
           0.9924487927327343,
           0.8533333333333334,
           0.9831688149468306,
           0.9638385020479812,
           1.0727217097312098,
           "09"
          ],
          [
           1.1959242987619092,
           4.372844827586206,
           1.2326289027574402,
           1.89,
           0.9917698013435797,
           0.8166666666666668,
           0.9764419932077479,
           0.9512905532800205,
           1.0899802417357147,
           "11"
          ],
          [
           1.2159643642971563,
           5.461206896551723,
           1.2907686081910221,
           1.9266666666666667,
           0.9920167073032726,
           0.86,
           0.9718624768503002,
           0.9335413822248226,
           1.123106107410114,
           "13"
          ]
         ],
         "hovertemplate": "Expected Rewards: %{customdata[0]}<br>FID: %{customdata[2]}<br>CMMD: %{customdata[1]}<br>Win Rate (Reference Align): %{customdata[3]}<br>Clipscore: %{customdata[4]}<br>Win Rate (Text Align): %{customdata[5]}<br>Target FID: %{customdata[6]}<br>Target CMMD: %{customdata[7]}<br>Gram: %{customdata[8]}<br>Params: %{customdata[9]}",
         "legendgroup": "DPS (Chung, 2023)",
         "line": {
          "color": "#ab63fa",
          "dash": "solid"
         },
         "marker": {
          "symbol": "x"
         },
         "mode": "lines+markers",
         "name": "DPS (Chung, 2023)",
         "orientation": "v",
         "showlegend": true,
         "type": "scatter",
         "x": [
          1,
          1.1200856356643474,
          1.1503756076978862,
          1.1754067513032869,
          1.2326289027574402,
          1.2907686081910221
         ],
         "xaxis": "x",
         "y": [
          1,
          1.5933333333333335,
          1.72,
          1.8133333333333332,
          1.89,
          1.9266666666666667
         ],
         "yaxis": "y"
        },
        {
         "customdata": [
          [
           1,
           1,
           1,
           1,
           1,
           1,
           1,
           1,
           1,
           ""
          ],
          [
           1.3497432959558622,
           7.5043103448275845,
           1.45722369225341,
           1.9966666666666668,
           1.002592512576772,
           1.0766666666666669,
           0.9312837806712616,
           0.9026201157271958,
           1.3727599553291416,
           "10_b1"
          ],
          [
           1.4005331124498723,
           9.467672413793103,
           1.5943373429390528,
           2,
           1.000370358939539,
           0.9933333333333333,
           0.9302193806926161,
           0.8779793251414082,
           1.423379935658369,
           "20_b1"
          ],
          [
           1.4135170096077005,
           10.25,
           1.752041221409044,
           2,
           0.9963169861012519,
           0.9633333333333334,
           0.9251780661901592,
           0.8749968969980672,
           1.430683201399956,
           "30_b1"
          ],
          [
           1.435856829568219,
           10.933189655172413,
           1.8112223061349448,
           2,
           0.9971811569601762,
           0.9233333333333333,
           0.9310984703839195,
           0.864482153306027,
           1.5265731591216927,
           "40_b1"
          ]
         ],
         "hovertemplate": "Expected Rewards: %{customdata[0]}<br>FID: %{customdata[2]}<br>CMMD: %{customdata[1]}<br>Win Rate (Reference Align): %{customdata[3]}<br>Clipscore: %{customdata[4]}<br>Win Rate (Text Align): %{customdata[5]}<br>Target FID: %{customdata[6]}<br>Target CMMD: %{customdata[7]}<br>Gram: %{customdata[8]}<br>Params: %{customdata[9]}",
         "legendgroup": "SVDD-PM (Li, 2024)",
         "line": {
          "color": "#FFA15A",
          "dash": "solid"
         },
         "marker": {
          "symbol": "cross"
         },
         "mode": "lines+markers",
         "name": "SVDD-PM (Li, 2024)",
         "orientation": "v",
         "showlegend": true,
         "type": "scatter",
         "x": [
          1,
          1.45722369225341,
          1.5943373429390528,
          1.752041221409044,
          1.8112223061349448
         ],
         "xaxis": "x",
         "y": [
          1,
          1.9966666666666668,
          2,
          2,
          2
         ],
         "yaxis": "y"
        },
        {
         "customdata": [
          [
           1,
           1,
           1,
           1,
           1,
           1,
           1,
           1,
           1,
           ""
          ],
          [
           0.985153946683005,
           17.586206896551726,
           2.02754749633329,
           1.0030303030303027,
           0.9799183152783347,
           0.6586868686868687,
           0.9933164036499522,
           0.8293739028671737,
           1.3682945461699545,
           "1"
          ],
          [
           1.2162206000885851,
           50.696120689655174,
           3.2841663910465013,
           1.6033333333333335,
           0.9242821723609352,
           0.36098522167487695,
           0.8890955677821778,
           0.6619335543852806,
           2.192956841101366,
           "3"
          ],
          [
           1.3341316944656285,
           76.0689655172414,
           3.82307648299537,
           1.7391666666666667,
           0.8703949466580249,
           0.19666666666666666,
           0.7881706562642405,
           0.5672843118132761,
           2.694160455210005,
           "6"
          ],
          [
           1.3977938523497562,
           91.13146551724137,
           4.2716206683835365,
           1.8181818181818181,
           0.8185858461158605,
           0.08666666666666667,
           0.7259006953202418,
           0.5028931798972758,
           3.111269714852006,
           "12"
          ],
          [
           1.4258914482075498,
           100.62715517241381,
           4.443644289238875,
           1.8727777777777777,
           0.793967264384844,
           0.10515151515151515,
           0.6988208681385076,
           0.45720044210389443,
           3.3141657969865697,
           "24"
          ]
         ],
         "hovertemplate": "Expected Rewards: %{customdata[0]}<br>FID: %{customdata[2]}<br>CMMD: %{customdata[1]}<br>Win Rate (Reference Align): %{customdata[3]}<br>Clipscore: %{customdata[4]}<br>Win Rate (Text Align): %{customdata[5]}<br>Target FID: %{customdata[6]}<br>Target CMMD: %{customdata[7]}<br>Gram: %{customdata[8]}<br>Params: %{customdata[9]}",
         "legendgroup": "UG (Bansal, 2024)",
         "line": {
          "color": "#19d3f3",
          "dash": "solid"
         },
         "marker": {
          "symbol": "circle"
         },
         "mode": "lines+markers",
         "name": "UG (Bansal, 2024)",
         "orientation": "v",
         "showlegend": true,
         "type": "scatter",
         "x": [
          1,
          2.02754749633329,
          3.2841663910465013,
          3.82307648299537,
          4.2716206683835365,
          4.443644289238875
         ],
         "xaxis": "x",
         "y": [
          1,
          1.0030303030303027,
          1.6033333333333335,
          1.7391666666666667,
          1.8181818181818181,
          1.8727777777777777
         ],
         "yaxis": "y"
        }
       ],
       "layout": {
        "legend": {
         "title": {
          "text": "Guidance Method"
         },
         "tracegroupgap": 0
        },
        "template": {
         "data": {
          "bar": [
           {
            "error_x": {
             "color": "#2a3f5f"
            },
            "error_y": {
             "color": "#2a3f5f"
            },
            "marker": {
             "line": {
              "color": "#E5ECF6",
              "width": 0.5
             },
             "pattern": {
              "fillmode": "overlay",
              "size": 10,
              "solidity": 0.2
             }
            },
            "type": "bar"
           }
          ],
          "barpolar": [
           {
            "marker": {
             "line": {
              "color": "#E5ECF6",
              "width": 0.5
             },
             "pattern": {
              "fillmode": "overlay",
              "size": 10,
              "solidity": 0.2
             }
            },
            "type": "barpolar"
           }
          ],
          "carpet": [
           {
            "aaxis": {
             "endlinecolor": "#2a3f5f",
             "gridcolor": "white",
             "linecolor": "white",
             "minorgridcolor": "white",
             "startlinecolor": "#2a3f5f"
            },
            "baxis": {
             "endlinecolor": "#2a3f5f",
             "gridcolor": "white",
             "linecolor": "white",
             "minorgridcolor": "white",
             "startlinecolor": "#2a3f5f"
            },
            "type": "carpet"
           }
          ],
          "choropleth": [
           {
            "colorbar": {
             "outlinewidth": 0,
             "ticks": ""
            },
            "type": "choropleth"
           }
          ],
          "contour": [
           {
            "colorbar": {
             "outlinewidth": 0,
             "ticks": ""
            },
            "colorscale": [
             [
              0,
              "#0d0887"
             ],
             [
              0.1111111111111111,
              "#46039f"
             ],
             [
              0.2222222222222222,
              "#7201a8"
             ],
             [
              0.3333333333333333,
              "#9c179e"
             ],
             [
              0.4444444444444444,
              "#bd3786"
             ],
             [
              0.5555555555555556,
              "#d8576b"
             ],
             [
              0.6666666666666666,
              "#ed7953"
             ],
             [
              0.7777777777777778,
              "#fb9f3a"
             ],
             [
              0.8888888888888888,
              "#fdca26"
             ],
             [
              1,
              "#f0f921"
             ]
            ],
            "type": "contour"
           }
          ],
          "contourcarpet": [
           {
            "colorbar": {
             "outlinewidth": 0,
             "ticks": ""
            },
            "type": "contourcarpet"
           }
          ],
          "heatmap": [
           {
            "colorbar": {
             "outlinewidth": 0,
             "ticks": ""
            },
            "colorscale": [
             [
              0,
              "#0d0887"
             ],
             [
              0.1111111111111111,
              "#46039f"
             ],
             [
              0.2222222222222222,
              "#7201a8"
             ],
             [
              0.3333333333333333,
              "#9c179e"
             ],
             [
              0.4444444444444444,
              "#bd3786"
             ],
             [
              0.5555555555555556,
              "#d8576b"
             ],
             [
              0.6666666666666666,
              "#ed7953"
             ],
             [
              0.7777777777777778,
              "#fb9f3a"
             ],
             [
              0.8888888888888888,
              "#fdca26"
             ],
             [
              1,
              "#f0f921"
             ]
            ],
            "type": "heatmap"
           }
          ],
          "heatmapgl": [
           {
            "colorbar": {
             "outlinewidth": 0,
             "ticks": ""
            },
            "colorscale": [
             [
              0,
              "#0d0887"
             ],
             [
              0.1111111111111111,
              "#46039f"
             ],
             [
              0.2222222222222222,
              "#7201a8"
             ],
             [
              0.3333333333333333,
              "#9c179e"
             ],
             [
              0.4444444444444444,
              "#bd3786"
             ],
             [
              0.5555555555555556,
              "#d8576b"
             ],
             [
              0.6666666666666666,
              "#ed7953"
             ],
             [
              0.7777777777777778,
              "#fb9f3a"
             ],
             [
              0.8888888888888888,
              "#fdca26"
             ],
             [
              1,
              "#f0f921"
             ]
            ],
            "type": "heatmapgl"
           }
          ],
          "histogram": [
           {
            "marker": {
             "pattern": {
              "fillmode": "overlay",
              "size": 10,
              "solidity": 0.2
             }
            },
            "type": "histogram"
           }
          ],
          "histogram2d": [
           {
            "colorbar": {
             "outlinewidth": 0,
             "ticks": ""
            },
            "colorscale": [
             [
              0,
              "#0d0887"
             ],
             [
              0.1111111111111111,
              "#46039f"
             ],
             [
              0.2222222222222222,
              "#7201a8"
             ],
             [
              0.3333333333333333,
              "#9c179e"
             ],
             [
              0.4444444444444444,
              "#bd3786"
             ],
             [
              0.5555555555555556,
              "#d8576b"
             ],
             [
              0.6666666666666666,
              "#ed7953"
             ],
             [
              0.7777777777777778,
              "#fb9f3a"
             ],
             [
              0.8888888888888888,
              "#fdca26"
             ],
             [
              1,
              "#f0f921"
             ]
            ],
            "type": "histogram2d"
           }
          ],
          "histogram2dcontour": [
           {
            "colorbar": {
             "outlinewidth": 0,
             "ticks": ""
            },
            "colorscale": [
             [
              0,
              "#0d0887"
             ],
             [
              0.1111111111111111,
              "#46039f"
             ],
             [
              0.2222222222222222,
              "#7201a8"
             ],
             [
              0.3333333333333333,
              "#9c179e"
             ],
             [
              0.4444444444444444,
              "#bd3786"
             ],
             [
              0.5555555555555556,
              "#d8576b"
             ],
             [
              0.6666666666666666,
              "#ed7953"
             ],
             [
              0.7777777777777778,
              "#fb9f3a"
             ],
             [
              0.8888888888888888,
              "#fdca26"
             ],
             [
              1,
              "#f0f921"
             ]
            ],
            "type": "histogram2dcontour"
           }
          ],
          "mesh3d": [
           {
            "colorbar": {
             "outlinewidth": 0,
             "ticks": ""
            },
            "type": "mesh3d"
           }
          ],
          "parcoords": [
           {
            "line": {
             "colorbar": {
              "outlinewidth": 0,
              "ticks": ""
             }
            },
            "type": "parcoords"
           }
          ],
          "pie": [
           {
            "automargin": true,
            "type": "pie"
           }
          ],
          "scatter": [
           {
            "fillpattern": {
             "fillmode": "overlay",
             "size": 10,
             "solidity": 0.2
            },
            "type": "scatter"
           }
          ],
          "scatter3d": [
           {
            "line": {
             "colorbar": {
              "outlinewidth": 0,
              "ticks": ""
             }
            },
            "marker": {
             "colorbar": {
              "outlinewidth": 0,
              "ticks": ""
             }
            },
            "type": "scatter3d"
           }
          ],
          "scattercarpet": [
           {
            "marker": {
             "colorbar": {
              "outlinewidth": 0,
              "ticks": ""
             }
            },
            "type": "scattercarpet"
           }
          ],
          "scattergeo": [
           {
            "marker": {
             "colorbar": {
              "outlinewidth": 0,
              "ticks": ""
             }
            },
            "type": "scattergeo"
           }
          ],
          "scattergl": [
           {
            "marker": {
             "colorbar": {
              "outlinewidth": 0,
              "ticks": ""
             }
            },
            "type": "scattergl"
           }
          ],
          "scattermapbox": [
           {
            "marker": {
             "colorbar": {
              "outlinewidth": 0,
              "ticks": ""
             }
            },
            "type": "scattermapbox"
           }
          ],
          "scatterpolar": [
           {
            "marker": {
             "colorbar": {
              "outlinewidth": 0,
              "ticks": ""
             }
            },
            "type": "scatterpolar"
           }
          ],
          "scatterpolargl": [
           {
            "marker": {
             "colorbar": {
              "outlinewidth": 0,
              "ticks": ""
             }
            },
            "type": "scatterpolargl"
           }
          ],
          "scatterternary": [
           {
            "marker": {
             "colorbar": {
              "outlinewidth": 0,
              "ticks": ""
             }
            },
            "type": "scatterternary"
           }
          ],
          "surface": [
           {
            "colorbar": {
             "outlinewidth": 0,
             "ticks": ""
            },
            "colorscale": [
             [
              0,
              "#0d0887"
             ],
             [
              0.1111111111111111,
              "#46039f"
             ],
             [
              0.2222222222222222,
              "#7201a8"
             ],
             [
              0.3333333333333333,
              "#9c179e"
             ],
             [
              0.4444444444444444,
              "#bd3786"
             ],
             [
              0.5555555555555556,
              "#d8576b"
             ],
             [
              0.6666666666666666,
              "#ed7953"
             ],
             [
              0.7777777777777778,
              "#fb9f3a"
             ],
             [
              0.8888888888888888,
              "#fdca26"
             ],
             [
              1,
              "#f0f921"
             ]
            ],
            "type": "surface"
           }
          ],
          "table": [
           {
            "cells": {
             "fill": {
              "color": "#EBF0F8"
             },
             "line": {
              "color": "white"
             }
            },
            "header": {
             "fill": {
              "color": "#C8D4E3"
             },
             "line": {
              "color": "white"
             }
            },
            "type": "table"
           }
          ]
         },
         "layout": {
          "annotationdefaults": {
           "arrowcolor": "#2a3f5f",
           "arrowhead": 0,
           "arrowwidth": 1
          },
          "autotypenumbers": "strict",
          "coloraxis": {
           "colorbar": {
            "outlinewidth": 0,
            "ticks": ""
           }
          },
          "colorscale": {
           "diverging": [
            [
             0,
             "#8e0152"
            ],
            [
             0.1,
             "#c51b7d"
            ],
            [
             0.2,
             "#de77ae"
            ],
            [
             0.3,
             "#f1b6da"
            ],
            [
             0.4,
             "#fde0ef"
            ],
            [
             0.5,
             "#f7f7f7"
            ],
            [
             0.6,
             "#e6f5d0"
            ],
            [
             0.7,
             "#b8e186"
            ],
            [
             0.8,
             "#7fbc41"
            ],
            [
             0.9,
             "#4d9221"
            ],
            [
             1,
             "#276419"
            ]
           ],
           "sequential": [
            [
             0,
             "#0d0887"
            ],
            [
             0.1111111111111111,
             "#46039f"
            ],
            [
             0.2222222222222222,
             "#7201a8"
            ],
            [
             0.3333333333333333,
             "#9c179e"
            ],
            [
             0.4444444444444444,
             "#bd3786"
            ],
            [
             0.5555555555555556,
             "#d8576b"
            ],
            [
             0.6666666666666666,
             "#ed7953"
            ],
            [
             0.7777777777777778,
             "#fb9f3a"
            ],
            [
             0.8888888888888888,
             "#fdca26"
            ],
            [
             1,
             "#f0f921"
            ]
           ],
           "sequentialminus": [
            [
             0,
             "#0d0887"
            ],
            [
             0.1111111111111111,
             "#46039f"
            ],
            [
             0.2222222222222222,
             "#7201a8"
            ],
            [
             0.3333333333333333,
             "#9c179e"
            ],
            [
             0.4444444444444444,
             "#bd3786"
            ],
            [
             0.5555555555555556,
             "#d8576b"
            ],
            [
             0.6666666666666666,
             "#ed7953"
            ],
            [
             0.7777777777777778,
             "#fb9f3a"
            ],
            [
             0.8888888888888888,
             "#fdca26"
            ],
            [
             1,
             "#f0f921"
            ]
           ]
          },
          "colorway": [
           "#636efa",
           "#EF553B",
           "#00cc96",
           "#ab63fa",
           "#FFA15A",
           "#19d3f3",
           "#FF6692",
           "#B6E880",
           "#FF97FF",
           "#FECB52"
          ],
          "font": {
           "color": "#2a3f5f"
          },
          "geo": {
           "bgcolor": "white",
           "lakecolor": "white",
           "landcolor": "#E5ECF6",
           "showlakes": true,
           "showland": true,
           "subunitcolor": "white"
          },
          "hoverlabel": {
           "align": "left"
          },
          "hovermode": "closest",
          "mapbox": {
           "style": "light"
          },
          "paper_bgcolor": "white",
          "plot_bgcolor": "#E5ECF6",
          "polar": {
           "angularaxis": {
            "gridcolor": "white",
            "linecolor": "white",
            "ticks": ""
           },
           "bgcolor": "#E5ECF6",
           "radialaxis": {
            "gridcolor": "white",
            "linecolor": "white",
            "ticks": ""
           }
          },
          "scene": {
           "xaxis": {
            "backgroundcolor": "#E5ECF6",
            "gridcolor": "white",
            "gridwidth": 2,
            "linecolor": "white",
            "showbackground": true,
            "ticks": "",
            "zerolinecolor": "white"
           },
           "yaxis": {
            "backgroundcolor": "#E5ECF6",
            "gridcolor": "white",
            "gridwidth": 2,
            "linecolor": "white",
            "showbackground": true,
            "ticks": "",
            "zerolinecolor": "white"
           },
           "zaxis": {
            "backgroundcolor": "#E5ECF6",
            "gridcolor": "white",
            "gridwidth": 2,
            "linecolor": "white",
            "showbackground": true,
            "ticks": "",
            "zerolinecolor": "white"
           }
          },
          "shapedefaults": {
           "line": {
            "color": "#2a3f5f"
           }
          },
          "ternary": {
           "aaxis": {
            "gridcolor": "white",
            "linecolor": "white",
            "ticks": ""
           },
           "baxis": {
            "gridcolor": "white",
            "linecolor": "white",
            "ticks": ""
           },
           "bgcolor": "#E5ECF6",
           "caxis": {
            "gridcolor": "white",
            "linecolor": "white",
            "ticks": ""
           }
          },
          "title": {
           "x": 0.05
          },
          "xaxis": {
           "automargin": true,
           "gridcolor": "white",
           "linecolor": "white",
           "ticks": "",
           "title": {
            "standoff": 15
           },
           "zerolinecolor": "white",
           "zerolinewidth": 2
          },
          "yaxis": {
           "automargin": true,
           "gridcolor": "white",
           "linecolor": "white",
           "ticks": "",
           "title": {
            "standoff": 15
           },
           "zerolinecolor": "white",
           "zerolinewidth": 2
          }
         }
        },
        "title": {
         "text": "styletransfer"
        },
        "xaxis": {
         "anchor": "y",
         "domain": [
          0,
          1
         ],
         "title": {
          "text": "Source FID"
         }
        },
        "yaxis": {
         "anchor": "x",
         "domain": [
          0,
          1
         ],
         "title": {
          "text": "Win Rate (Reference Align)"
         }
        }
       }
      },
      "text/html": [
       "<div>                            <div id=\"f7db72a1-bf6f-4fcb-93af-cd7808f62808\" class=\"plotly-graph-div\" style=\"height:525px; width:100%;\"></div>            <script type=\"text/javascript\">                require([\"plotly\"], function(Plotly) {                    window.PLOTLYENV=window.PLOTLYENV || {};                                    if (document.getElementById(\"f7db72a1-bf6f-4fcb-93af-cd7808f62808\")) {                    Plotly.newPlot(                        \"f7db72a1-bf6f-4fcb-93af-cd7808f62808\",                        [{\"customdata\":[[1.0,1.0,1.0,1.0,1.0,1.0,1.0,1.0,1.0,\"\"],[1.180358765339298,2.4504310344827585,1.156503104491803,1.876666666666667,1.0030040225095933,1.0233333333333332,0.9870579265915854,0.9647097067810936,1.1309992927506352,\"5_b5\"],[1.2349653896537502,3.2844827586206895,1.1760421532937733,1.9833333333333334,1.0006275526475519,1.0133333333333334,0.9559436117168991,0.9569988947402641,1.229414748208635,\"10_b5\"],[1.2719165410817694,4.105603448275861,1.244970428013071,1.9966666666666668,1.0012448175467834,1.0233333333333332,0.9539371283702883,0.9348546908523504,1.2726270960058652,\"20_b5\"],[1.2921773684460187,4.704741379310344,1.31243886867177,1.99,1.000257193708013,0.9700000000000003,0.9477902856133462,0.9307587283011507,1.3117755254062564,\"30_b5\"],[1.3081734786590813,5.051724137931034,1.3442437860759915,1.9933333333333334,1.0019340966842585,1.0166666666666666,0.9503358101632684,0.9268318054742865,1.3054462908242337,\"40_b5\"],[1.3462941204374366,7.403017241379309,1.487609937241581,2.0,1.001429997016553,0.9500000000000001,0.9363298413728511,0.9050516871464795,1.4226814047549279,\"100_b5\"]],\"hovertemplate\":\"Expected Rewards: %{customdata[0]}\\u003cbr\\u003eFID: %{customdata[2]}\\u003cbr\\u003eCMMD: %{customdata[1]}\\u003cbr\\u003eWin Rate (Reference Align): %{customdata[3]}\\u003cbr\\u003eClipscore: %{customdata[4]}\\u003cbr\\u003eWin Rate (Text Align): %{customdata[5]}\\u003cbr\\u003eTarget FID: %{customdata[6]}\\u003cbr\\u003eTarget CMMD: %{customdata[7]}\\u003cbr\\u003eGram: %{customdata[8]}\\u003cbr\\u003eParams: %{customdata[9]}\",\"legendgroup\":\"CoDe (Ours)\",\"line\":{\"color\":\"#636efa\",\"dash\":\"solid\"},\"marker\":{\"symbol\":\"circle\"},\"mode\":\"lines+markers\",\"name\":\"CoDe (Ours)\",\"orientation\":\"v\",\"showlegend\":true,\"x\":[1.0,1.156503104491803,1.1760421532937733,1.244970428013071,1.31243886867177,1.3442437860759915,1.487609937241581],\"xaxis\":\"x\",\"y\":[1.0,1.876666666666667,1.9833333333333334,1.9966666666666668,1.99,1.9933333333333334,2.0],\"yaxis\":\"y\",\"type\":\"scatter\"},{\"customdata\":[[1.0,1.0,1.0,1.0,1.0,1.0,1.0,1.0,1.0,\"\"],[1.3472820752341716,71.19181034482759,3.1019867749295,1.9799999999999998,0.8990360379823669,0.3066666666666667,0.8111586482584466,0.723177946817502,2.6379831742904853,\"5_b5_r6\"],[1.3990771790652103,74.0280172413793,3.2411617429147115,1.9966666666666668,0.8926473462753206,0.2833333333333334,0.7989921225335881,0.7012027826539237,2.7220208738589573,\"10_b5_r6\"],[1.4492941094905694,78.76508620689654,3.34953353740364,2.0,0.8783988148513933,0.2733333333333333,0.7637519478519263,0.6787985176516481,2.8636383213830547,\"20_b5_r6\"],[1.465059423246038,81.0581896551724,3.4543552918132003,2.0,0.8712796930135901,0.18333333333333335,0.7558221535141988,0.6802418568363564,2.9176331035067093,\"30_b5_r6\"],[1.4812005794541891,81.17887931034483,3.481397044050363,2.0,0.8665164655411867,0.19999999999999998,0.7402859362573109,0.6652493335933943,2.9466743393220054,\"40_b5_r6\"],[1.5220980766353704,84.44827586206895,3.640808636863022,2.0,0.8572163410594322,0.16666666666666666,0.7161542307101288,0.636746635459333,3.1555748548726656,\"100_b5_r6\"]],\"hovertemplate\":\"Expected Rewards: %{customdata[0]}\\u003cbr\\u003eFID: %{customdata[2]}\\u003cbr\\u003eCMMD: %{customdata[1]}\\u003cbr\\u003eWin Rate (Reference Align): %{customdata[3]}\\u003cbr\\u003eClipscore: %{customdata[4]}\\u003cbr\\u003eWin Rate (Text Align): %{customdata[5]}\\u003cbr\\u003eTarget FID: %{customdata[6]}\\u003cbr\\u003eTarget CMMD: %{customdata[7]}\\u003cbr\\u003eGram: %{customdata[8]}\\u003cbr\\u003eParams: %{customdata[9]}\",\"legendgroup\":\"C-CoDe (Ours)\",\"line\":{\"color\":\"#EF553B\",\"dash\":\"solid\"},\"marker\":{\"symbol\":\"diamond\"},\"mode\":\"lines+markers\",\"name\":\"C-CoDe (Ours)\",\"orientation\":\"v\",\"showlegend\":true,\"x\":[1.0,3.1019867749295,3.2411617429147115,3.34953353740364,3.4543552918132003,3.481397044050363,3.640808636863022],\"xaxis\":\"x\",\"y\":[1.0,1.9799999999999998,1.9966666666666668,2.0,2.0,2.0,2.0],\"yaxis\":\"y\",\"type\":\"scatter\"},{\"customdata\":[[1.0,1.0,1.0,1.0,1.0,1.0,1.0,1.0,1.0,\"\"],[1.1080629152967876,1.5754310344827587,1.101758865493275,1.7199999999999998,1.002829130788144,1.0433333333333332,0.9879335012354444,0.9815226578245887,1.0458055170157607,\"10\"],[1.1325547069706001,1.6465517241379313,1.1139393804763855,1.8300000000000003,1.0014094215199119,1.0433333333333332,0.9898140653335105,0.9755542552499838,1.0599660379090365,\"20\"],[1.1444749802792646,1.9396551724137934,1.1332801998467272,1.8806837606837605,1.0023558943654003,1.0054700854700855,0.9834898534464027,0.9976464469150248,1.0675127869163625,\"30\"],[1.1455471939064883,2.246305418719212,1.3011049523330884,1.8961490683229811,0.994131574422306,1.0203726708074534,0.9807540800877121,1.055900136532085,1.0717066127227217,\"40\"]],\"hovertemplate\":\"Expected Rewards: %{customdata[0]}\\u003cbr\\u003eFID: %{customdata[2]}\\u003cbr\\u003eCMMD: %{customdata[1]}\\u003cbr\\u003eWin Rate (Reference Align): %{customdata[3]}\\u003cbr\\u003eClipscore: %{customdata[4]}\\u003cbr\\u003eWin Rate (Text Align): %{customdata[5]}\\u003cbr\\u003eTarget FID: %{customdata[6]}\\u003cbr\\u003eTarget CMMD: %{customdata[7]}\\u003cbr\\u003eGram: %{customdata[8]}\\u003cbr\\u003eParams: %{customdata[9]}\",\"legendgroup\":\"BoN\",\"line\":{\"color\":\"#00cc96\",\"dash\":\"solid\"},\"marker\":{\"symbol\":\"square\"},\"mode\":\"lines+markers\",\"name\":\"BoN\",\"orientation\":\"v\",\"showlegend\":true,\"x\":[1.0,1.101758865493275,1.1139393804763855,1.1332801998467272,1.3011049523330884],\"xaxis\":\"x\",\"y\":[1.0,1.7199999999999998,1.8300000000000003,1.8806837606837605,1.8961490683229811],\"yaxis\":\"y\",\"type\":\"scatter\"},{\"customdata\":[[1.0,1.0,1.0,1.0,1.0,1.0,1.0,1.0,1.0,\"\"],[1.1013889750447907,1.6939655172413792,1.1200856356643474,1.5933333333333335,0.9975618036480355,0.9500000000000001,0.9966325149278616,0.9851375073142186,1.0368546349545937,\"05\"],[1.1335399250504468,2.344827586206897,1.1503756076978862,1.72,0.996162669876444,0.9600000000000001,0.993720112747586,0.9760483713672712,1.0529514422120783,\"07\"],[1.1608395882518219,3.107758620689655,1.1754067513032869,1.8133333333333332,0.9924487927327343,0.8533333333333334,0.9831688149468306,0.9638385020479812,1.0727217097312098,\"09\"],[1.1959242987619092,4.372844827586206,1.2326289027574402,1.89,0.9917698013435797,0.8166666666666668,0.9764419932077479,0.9512905532800205,1.0899802417357147,\"11\"],[1.2159643642971563,5.461206896551723,1.2907686081910221,1.9266666666666667,0.9920167073032726,0.86,0.9718624768503002,0.9335413822248226,1.123106107410114,\"13\"]],\"hovertemplate\":\"Expected Rewards: %{customdata[0]}\\u003cbr\\u003eFID: %{customdata[2]}\\u003cbr\\u003eCMMD: %{customdata[1]}\\u003cbr\\u003eWin Rate (Reference Align): %{customdata[3]}\\u003cbr\\u003eClipscore: %{customdata[4]}\\u003cbr\\u003eWin Rate (Text Align): %{customdata[5]}\\u003cbr\\u003eTarget FID: %{customdata[6]}\\u003cbr\\u003eTarget CMMD: %{customdata[7]}\\u003cbr\\u003eGram: %{customdata[8]}\\u003cbr\\u003eParams: %{customdata[9]}\",\"legendgroup\":\"DPS (Chung, 2023)\",\"line\":{\"color\":\"#ab63fa\",\"dash\":\"solid\"},\"marker\":{\"symbol\":\"x\"},\"mode\":\"lines+markers\",\"name\":\"DPS (Chung, 2023)\",\"orientation\":\"v\",\"showlegend\":true,\"x\":[1.0,1.1200856356643474,1.1503756076978862,1.1754067513032869,1.2326289027574402,1.2907686081910221],\"xaxis\":\"x\",\"y\":[1.0,1.5933333333333335,1.72,1.8133333333333332,1.89,1.9266666666666667],\"yaxis\":\"y\",\"type\":\"scatter\"},{\"customdata\":[[1.0,1.0,1.0,1.0,1.0,1.0,1.0,1.0,1.0,\"\"],[1.3497432959558622,7.5043103448275845,1.45722369225341,1.9966666666666668,1.002592512576772,1.0766666666666669,0.9312837806712616,0.9026201157271958,1.3727599553291416,\"10_b1\"],[1.4005331124498723,9.467672413793103,1.5943373429390528,2.0,1.000370358939539,0.9933333333333333,0.9302193806926161,0.8779793251414082,1.423379935658369,\"20_b1\"],[1.4135170096077005,10.25,1.752041221409044,2.0,0.9963169861012519,0.9633333333333334,0.9251780661901592,0.8749968969980672,1.430683201399956,\"30_b1\"],[1.435856829568219,10.933189655172413,1.8112223061349448,2.0,0.9971811569601762,0.9233333333333333,0.9310984703839195,0.864482153306027,1.5265731591216927,\"40_b1\"]],\"hovertemplate\":\"Expected Rewards: %{customdata[0]}\\u003cbr\\u003eFID: %{customdata[2]}\\u003cbr\\u003eCMMD: %{customdata[1]}\\u003cbr\\u003eWin Rate (Reference Align): %{customdata[3]}\\u003cbr\\u003eClipscore: %{customdata[4]}\\u003cbr\\u003eWin Rate (Text Align): %{customdata[5]}\\u003cbr\\u003eTarget FID: %{customdata[6]}\\u003cbr\\u003eTarget CMMD: %{customdata[7]}\\u003cbr\\u003eGram: %{customdata[8]}\\u003cbr\\u003eParams: %{customdata[9]}\",\"legendgroup\":\"SVDD-PM (Li, 2024)\",\"line\":{\"color\":\"#FFA15A\",\"dash\":\"solid\"},\"marker\":{\"symbol\":\"cross\"},\"mode\":\"lines+markers\",\"name\":\"SVDD-PM (Li, 2024)\",\"orientation\":\"v\",\"showlegend\":true,\"x\":[1.0,1.45722369225341,1.5943373429390528,1.752041221409044,1.8112223061349448],\"xaxis\":\"x\",\"y\":[1.0,1.9966666666666668,2.0,2.0,2.0],\"yaxis\":\"y\",\"type\":\"scatter\"},{\"customdata\":[[1.0,1.0,1.0,1.0,1.0,1.0,1.0,1.0,1.0,\"\"],[0.985153946683005,17.586206896551726,2.02754749633329,1.0030303030303027,0.9799183152783347,0.6586868686868687,0.9933164036499522,0.8293739028671737,1.3682945461699545,\"1\"],[1.2162206000885851,50.696120689655174,3.2841663910465013,1.6033333333333335,0.9242821723609352,0.36098522167487695,0.8890955677821778,0.6619335543852806,2.192956841101366,\"3\"],[1.3341316944656285,76.0689655172414,3.82307648299537,1.7391666666666667,0.8703949466580249,0.19666666666666666,0.7881706562642405,0.5672843118132761,2.694160455210005,\"6\"],[1.3977938523497562,91.13146551724137,4.2716206683835365,1.8181818181818181,0.8185858461158605,0.08666666666666667,0.7259006953202418,0.5028931798972758,3.111269714852006,\"12\"],[1.4258914482075498,100.62715517241381,4.443644289238875,1.8727777777777777,0.793967264384844,0.10515151515151515,0.6988208681385076,0.45720044210389443,3.3141657969865697,\"24\"]],\"hovertemplate\":\"Expected Rewards: %{customdata[0]}\\u003cbr\\u003eFID: %{customdata[2]}\\u003cbr\\u003eCMMD: %{customdata[1]}\\u003cbr\\u003eWin Rate (Reference Align): %{customdata[3]}\\u003cbr\\u003eClipscore: %{customdata[4]}\\u003cbr\\u003eWin Rate (Text Align): %{customdata[5]}\\u003cbr\\u003eTarget FID: %{customdata[6]}\\u003cbr\\u003eTarget CMMD: %{customdata[7]}\\u003cbr\\u003eGram: %{customdata[8]}\\u003cbr\\u003eParams: %{customdata[9]}\",\"legendgroup\":\"UG (Bansal, 2024)\",\"line\":{\"color\":\"#19d3f3\",\"dash\":\"solid\"},\"marker\":{\"symbol\":\"circle\"},\"mode\":\"lines+markers\",\"name\":\"UG (Bansal, 2024)\",\"orientation\":\"v\",\"showlegend\":true,\"x\":[1.0,2.02754749633329,3.2841663910465013,3.82307648299537,4.2716206683835365,4.443644289238875],\"xaxis\":\"x\",\"y\":[1.0,1.0030303030303027,1.6033333333333335,1.7391666666666667,1.8181818181818181,1.8727777777777777],\"yaxis\":\"y\",\"type\":\"scatter\"}],                        {\"template\":{\"data\":{\"histogram2dcontour\":[{\"type\":\"histogram2dcontour\",\"colorbar\":{\"outlinewidth\":0,\"ticks\":\"\"},\"colorscale\":[[0.0,\"#0d0887\"],[0.1111111111111111,\"#46039f\"],[0.2222222222222222,\"#7201a8\"],[0.3333333333333333,\"#9c179e\"],[0.4444444444444444,\"#bd3786\"],[0.5555555555555556,\"#d8576b\"],[0.6666666666666666,\"#ed7953\"],[0.7777777777777778,\"#fb9f3a\"],[0.8888888888888888,\"#fdca26\"],[1.0,\"#f0f921\"]]}],\"choropleth\":[{\"type\":\"choropleth\",\"colorbar\":{\"outlinewidth\":0,\"ticks\":\"\"}}],\"histogram2d\":[{\"type\":\"histogram2d\",\"colorbar\":{\"outlinewidth\":0,\"ticks\":\"\"},\"colorscale\":[[0.0,\"#0d0887\"],[0.1111111111111111,\"#46039f\"],[0.2222222222222222,\"#7201a8\"],[0.3333333333333333,\"#9c179e\"],[0.4444444444444444,\"#bd3786\"],[0.5555555555555556,\"#d8576b\"],[0.6666666666666666,\"#ed7953\"],[0.7777777777777778,\"#fb9f3a\"],[0.8888888888888888,\"#fdca26\"],[1.0,\"#f0f921\"]]}],\"heatmap\":[{\"type\":\"heatmap\",\"colorbar\":{\"outlinewidth\":0,\"ticks\":\"\"},\"colorscale\":[[0.0,\"#0d0887\"],[0.1111111111111111,\"#46039f\"],[0.2222222222222222,\"#7201a8\"],[0.3333333333333333,\"#9c179e\"],[0.4444444444444444,\"#bd3786\"],[0.5555555555555556,\"#d8576b\"],[0.6666666666666666,\"#ed7953\"],[0.7777777777777778,\"#fb9f3a\"],[0.8888888888888888,\"#fdca26\"],[1.0,\"#f0f921\"]]}],\"heatmapgl\":[{\"type\":\"heatmapgl\",\"colorbar\":{\"outlinewidth\":0,\"ticks\":\"\"},\"colorscale\":[[0.0,\"#0d0887\"],[0.1111111111111111,\"#46039f\"],[0.2222222222222222,\"#7201a8\"],[0.3333333333333333,\"#9c179e\"],[0.4444444444444444,\"#bd3786\"],[0.5555555555555556,\"#d8576b\"],[0.6666666666666666,\"#ed7953\"],[0.7777777777777778,\"#fb9f3a\"],[0.8888888888888888,\"#fdca26\"],[1.0,\"#f0f921\"]]}],\"contourcarpet\":[{\"type\":\"contourcarpet\",\"colorbar\":{\"outlinewidth\":0,\"ticks\":\"\"}}],\"contour\":[{\"type\":\"contour\",\"colorbar\":{\"outlinewidth\":0,\"ticks\":\"\"},\"colorscale\":[[0.0,\"#0d0887\"],[0.1111111111111111,\"#46039f\"],[0.2222222222222222,\"#7201a8\"],[0.3333333333333333,\"#9c179e\"],[0.4444444444444444,\"#bd3786\"],[0.5555555555555556,\"#d8576b\"],[0.6666666666666666,\"#ed7953\"],[0.7777777777777778,\"#fb9f3a\"],[0.8888888888888888,\"#fdca26\"],[1.0,\"#f0f921\"]]}],\"surface\":[{\"type\":\"surface\",\"colorbar\":{\"outlinewidth\":0,\"ticks\":\"\"},\"colorscale\":[[0.0,\"#0d0887\"],[0.1111111111111111,\"#46039f\"],[0.2222222222222222,\"#7201a8\"],[0.3333333333333333,\"#9c179e\"],[0.4444444444444444,\"#bd3786\"],[0.5555555555555556,\"#d8576b\"],[0.6666666666666666,\"#ed7953\"],[0.7777777777777778,\"#fb9f3a\"],[0.8888888888888888,\"#fdca26\"],[1.0,\"#f0f921\"]]}],\"mesh3d\":[{\"type\":\"mesh3d\",\"colorbar\":{\"outlinewidth\":0,\"ticks\":\"\"}}],\"scatter\":[{\"fillpattern\":{\"fillmode\":\"overlay\",\"size\":10,\"solidity\":0.2},\"type\":\"scatter\"}],\"parcoords\":[{\"type\":\"parcoords\",\"line\":{\"colorbar\":{\"outlinewidth\":0,\"ticks\":\"\"}}}],\"scatterpolargl\":[{\"type\":\"scatterpolargl\",\"marker\":{\"colorbar\":{\"outlinewidth\":0,\"ticks\":\"\"}}}],\"bar\":[{\"error_x\":{\"color\":\"#2a3f5f\"},\"error_y\":{\"color\":\"#2a3f5f\"},\"marker\":{\"line\":{\"color\":\"#E5ECF6\",\"width\":0.5},\"pattern\":{\"fillmode\":\"overlay\",\"size\":10,\"solidity\":0.2}},\"type\":\"bar\"}],\"scattergeo\":[{\"type\":\"scattergeo\",\"marker\":{\"colorbar\":{\"outlinewidth\":0,\"ticks\":\"\"}}}],\"scatterpolar\":[{\"type\":\"scatterpolar\",\"marker\":{\"colorbar\":{\"outlinewidth\":0,\"ticks\":\"\"}}}],\"histogram\":[{\"marker\":{\"pattern\":{\"fillmode\":\"overlay\",\"size\":10,\"solidity\":0.2}},\"type\":\"histogram\"}],\"scattergl\":[{\"type\":\"scattergl\",\"marker\":{\"colorbar\":{\"outlinewidth\":0,\"ticks\":\"\"}}}],\"scatter3d\":[{\"type\":\"scatter3d\",\"line\":{\"colorbar\":{\"outlinewidth\":0,\"ticks\":\"\"}},\"marker\":{\"colorbar\":{\"outlinewidth\":0,\"ticks\":\"\"}}}],\"scattermapbox\":[{\"type\":\"scattermapbox\",\"marker\":{\"colorbar\":{\"outlinewidth\":0,\"ticks\":\"\"}}}],\"scatterternary\":[{\"type\":\"scatterternary\",\"marker\":{\"colorbar\":{\"outlinewidth\":0,\"ticks\":\"\"}}}],\"scattercarpet\":[{\"type\":\"scattercarpet\",\"marker\":{\"colorbar\":{\"outlinewidth\":0,\"ticks\":\"\"}}}],\"carpet\":[{\"aaxis\":{\"endlinecolor\":\"#2a3f5f\",\"gridcolor\":\"white\",\"linecolor\":\"white\",\"minorgridcolor\":\"white\",\"startlinecolor\":\"#2a3f5f\"},\"baxis\":{\"endlinecolor\":\"#2a3f5f\",\"gridcolor\":\"white\",\"linecolor\":\"white\",\"minorgridcolor\":\"white\",\"startlinecolor\":\"#2a3f5f\"},\"type\":\"carpet\"}],\"table\":[{\"cells\":{\"fill\":{\"color\":\"#EBF0F8\"},\"line\":{\"color\":\"white\"}},\"header\":{\"fill\":{\"color\":\"#C8D4E3\"},\"line\":{\"color\":\"white\"}},\"type\":\"table\"}],\"barpolar\":[{\"marker\":{\"line\":{\"color\":\"#E5ECF6\",\"width\":0.5},\"pattern\":{\"fillmode\":\"overlay\",\"size\":10,\"solidity\":0.2}},\"type\":\"barpolar\"}],\"pie\":[{\"automargin\":true,\"type\":\"pie\"}]},\"layout\":{\"autotypenumbers\":\"strict\",\"colorway\":[\"#636efa\",\"#EF553B\",\"#00cc96\",\"#ab63fa\",\"#FFA15A\",\"#19d3f3\",\"#FF6692\",\"#B6E880\",\"#FF97FF\",\"#FECB52\"],\"font\":{\"color\":\"#2a3f5f\"},\"hovermode\":\"closest\",\"hoverlabel\":{\"align\":\"left\"},\"paper_bgcolor\":\"white\",\"plot_bgcolor\":\"#E5ECF6\",\"polar\":{\"bgcolor\":\"#E5ECF6\",\"angularaxis\":{\"gridcolor\":\"white\",\"linecolor\":\"white\",\"ticks\":\"\"},\"radialaxis\":{\"gridcolor\":\"white\",\"linecolor\":\"white\",\"ticks\":\"\"}},\"ternary\":{\"bgcolor\":\"#E5ECF6\",\"aaxis\":{\"gridcolor\":\"white\",\"linecolor\":\"white\",\"ticks\":\"\"},\"baxis\":{\"gridcolor\":\"white\",\"linecolor\":\"white\",\"ticks\":\"\"},\"caxis\":{\"gridcolor\":\"white\",\"linecolor\":\"white\",\"ticks\":\"\"}},\"coloraxis\":{\"colorbar\":{\"outlinewidth\":0,\"ticks\":\"\"}},\"colorscale\":{\"sequential\":[[0.0,\"#0d0887\"],[0.1111111111111111,\"#46039f\"],[0.2222222222222222,\"#7201a8\"],[0.3333333333333333,\"#9c179e\"],[0.4444444444444444,\"#bd3786\"],[0.5555555555555556,\"#d8576b\"],[0.6666666666666666,\"#ed7953\"],[0.7777777777777778,\"#fb9f3a\"],[0.8888888888888888,\"#fdca26\"],[1.0,\"#f0f921\"]],\"sequentialminus\":[[0.0,\"#0d0887\"],[0.1111111111111111,\"#46039f\"],[0.2222222222222222,\"#7201a8\"],[0.3333333333333333,\"#9c179e\"],[0.4444444444444444,\"#bd3786\"],[0.5555555555555556,\"#d8576b\"],[0.6666666666666666,\"#ed7953\"],[0.7777777777777778,\"#fb9f3a\"],[0.8888888888888888,\"#fdca26\"],[1.0,\"#f0f921\"]],\"diverging\":[[0,\"#8e0152\"],[0.1,\"#c51b7d\"],[0.2,\"#de77ae\"],[0.3,\"#f1b6da\"],[0.4,\"#fde0ef\"],[0.5,\"#f7f7f7\"],[0.6,\"#e6f5d0\"],[0.7,\"#b8e186\"],[0.8,\"#7fbc41\"],[0.9,\"#4d9221\"],[1,\"#276419\"]]},\"xaxis\":{\"gridcolor\":\"white\",\"linecolor\":\"white\",\"ticks\":\"\",\"title\":{\"standoff\":15},\"zerolinecolor\":\"white\",\"automargin\":true,\"zerolinewidth\":2},\"yaxis\":{\"gridcolor\":\"white\",\"linecolor\":\"white\",\"ticks\":\"\",\"title\":{\"standoff\":15},\"zerolinecolor\":\"white\",\"automargin\":true,\"zerolinewidth\":2},\"scene\":{\"xaxis\":{\"backgroundcolor\":\"#E5ECF6\",\"gridcolor\":\"white\",\"linecolor\":\"white\",\"showbackground\":true,\"ticks\":\"\",\"zerolinecolor\":\"white\",\"gridwidth\":2},\"yaxis\":{\"backgroundcolor\":\"#E5ECF6\",\"gridcolor\":\"white\",\"linecolor\":\"white\",\"showbackground\":true,\"ticks\":\"\",\"zerolinecolor\":\"white\",\"gridwidth\":2},\"zaxis\":{\"backgroundcolor\":\"#E5ECF6\",\"gridcolor\":\"white\",\"linecolor\":\"white\",\"showbackground\":true,\"ticks\":\"\",\"zerolinecolor\":\"white\",\"gridwidth\":2}},\"shapedefaults\":{\"line\":{\"color\":\"#2a3f5f\"}},\"annotationdefaults\":{\"arrowcolor\":\"#2a3f5f\",\"arrowhead\":0,\"arrowwidth\":1},\"geo\":{\"bgcolor\":\"white\",\"landcolor\":\"#E5ECF6\",\"subunitcolor\":\"white\",\"showland\":true,\"showlakes\":true,\"lakecolor\":\"white\"},\"title\":{\"x\":0.05},\"mapbox\":{\"style\":\"light\"}}},\"xaxis\":{\"anchor\":\"y\",\"domain\":[0.0,1.0],\"title\":{\"text\":\"Source FID\"}},\"yaxis\":{\"anchor\":\"x\",\"domain\":[0.0,1.0],\"title\":{\"text\":\"Win Rate (Reference Align)\"}},\"legend\":{\"title\":{\"text\":\"Guidance Method\"},\"tracegroupgap\":0},\"title\":{\"text\":\"styletransfer\"}},                        {\"responsive\": true}                    ).then(function(){\n",
       "                            \n",
       "var gd = document.getElementById('f7db72a1-bf6f-4fcb-93af-cd7808f62808');\n",
       "var x = new MutationObserver(function (mutations, observer) {{\n",
       "        var display = window.getComputedStyle(gd).display;\n",
       "        if (!display || display === 'none') {{\n",
       "            console.log([gd, 'removed!']);\n",
       "            Plotly.purge(gd);\n",
       "            observer.disconnect();\n",
       "        }}\n",
       "}});\n",
       "\n",
       "// Listen for the removal of the full notebook cells\n",
       "var notebookContainer = gd.closest('#notebook-container');\n",
       "if (notebookContainer) {{\n",
       "    x.observe(notebookContainer, {childList: true});\n",
       "}}\n",
       "\n",
       "// Listen for the clearing of the current output cell\n",
       "var outputEl = gd.closest('.output');\n",
       "if (outputEl) {{\n",
       "    x.observe(outputEl, {childList: true});\n",
       "}}\n",
       "\n",
       "                        })                };                });            </script>        </div>"
      ]
     },
     "metadata": {},
     "output_type": "display_data"
    }
   ],
   "source": [
    "import plotly.express as px\n",
    "\n",
    "div = 'win_rate' # 'exp_rew', 'win_rate'\n",
    "perf = 'fid' # 'fid', 'mmd', 'kl'\n",
    "\n",
    "custom_data = ['exp_rew', 'cmmd', 'fid', 'win_rate', 'clipscore', 'clipwinrate', 'ref_fid', 'ref_cmmd', 'gram', 'param']\n",
    "\n",
    "g = px.line(plot_results_selected, x=perf, y=div, color='method', symbol='method', markers=['o', '^'],\n",
    "            labels={\n",
    "                     \"exp_rew\": f\"{'(Normalized)' if normalize else ''} Image Alignment\",\n",
    "                     \"kl\": \"KL Divergence\",\n",
    "                     \"fid\": \"Source FID\",\n",
    "                     \"cmmd\": \"Source CMMD\",\n",
    "                     \"ref_fid\": \"Reference FID\",\n",
    "                     \"ref_cmmd\": \"Reference CMMD\",\n",
    "                     \"win_rate\": \"Win Rate (Reference Align)\",\n",
    "                     \"method\": \"Guidance Method\",\n",
    "                     \"clipscore\": \"T-CLIP\",\n",
    "                     \"clipwinrate\": \"Win Rate (Text Align)\",\n",
    "                     \"gram\": \"I-Gram\"\n",
    "                 },\n",
    "            custom_data=custom_data,\n",
    "            title=task\n",
    "            )\n",
    "\n",
    "g.update_traces(\n",
    "    hovertemplate=\"<br>\".join([\n",
    "        \"Expected Rewards: %{customdata[0]}\",\n",
    "        \"FID: %{customdata[2]}\",\n",
    "        \"CMMD: %{customdata[1]}\",\n",
    "        \"Win Rate (Reference Align): %{customdata[3]}\",\n",
    "        \"Clipscore: %{customdata[4]}\",\n",
    "        \"Win Rate (Text Align): %{customdata[5]}\",\n",
    "        \"Target FID: %{customdata[6]}\",\n",
    "        \"Target CMMD: %{customdata[7]}\",\n",
    "        \"Gram: %{customdata[8]}\",\n",
    "        \"Params: %{customdata[9]}\",\n",
    "    ])\n",
    ")\n",
    "\n",
    "g.show()"
   ]
  },
  {
   "cell_type": "code",
   "execution_count": null,
   "metadata": {},
   "outputs": [],
   "source": [
    "import plotly.express as px\n",
    "\n",
    "div = 'gram' # 'exp_rew', 'win_rate'\n",
    "perf = 'clipscore' # 'fid', 'mmd', 'kl'\n",
    "\n",
    "custom_data = ['exp_rew', 'cmmd', 'fid', 'win_rate', 'clipscore', 'clipwinrate', 'ref_fid', 'ref_cmmd', 'gram', 'param']\n",
    "\n",
    "g = px.line(plot_results_selected, x=perf, y=div, color='method', symbol='method', markers=['o', '^'],\n",
    "            labels={\n",
    "                     \"exp_rew\": f\"{'(Normalized)' if normalize else ''} Image Alignment\",\n",
    "                     \"kl\": \"KL Divergence\",\n",
    "                     \"fid\": \"Source FID\",\n",
    "                     \"cmmd\": \"Source CMMD\",\n",
    "                     \"ref_fid\": \"Reference FID\",\n",
    "                     \"ref_cmmd\": \"Reference CMMD\",\n",
    "                     \"win_rate\": \"Win Rate (Reference Align)\",\n",
    "                     \"method\": \"Guidance Method\",\n",
    "                     \"clipscore\": \"T-CLIP\",\n",
    "                     \"clipwinrate\": \"Win Rate (Text Align)\",\n",
    "                     \"gram\": \"I-Gram\"\n",
    "                 },\n",
    "            custom_data=custom_data,\n",
    "            title=task\n",
    "            )\n",
    "\n",
    "g.update_traces(\n",
    "    hovertemplate=\"<br>\".join([\n",
    "        \"Expected Rewards: %{customdata[0]}\",\n",
    "        \"FID: %{customdata[2]}\",\n",
    "        \"CMMD: %{customdata[1]}\",\n",
    "        \"Win Rate (Reference Align): %{customdata[3]}\",\n",
    "        \"Clipscore: %{customdata[4]}\",\n",
    "        \"Win Rate (Text Align): %{customdata[5]}\",\n",
    "        \"Target FID: %{customdata[6]}\",\n",
    "        \"Target CMMD: %{customdata[7]}\",\n",
    "        \"Gram: %{customdata[8]}\",\n",
    "        \"Params: %{customdata[9]}\",\n",
    "    ])\n",
    ")\n",
    "\n",
    "g.show()"
   ]
  },
  {
   "cell_type": "code",
   "execution_count": 5,
   "metadata": {},
   "outputs": [],
   "source": [
    "# _METHODS_STYLE = {\n",
    "#     'CoDe (Ours)' : 'code',\n",
    "#     'C-CoDe (Ours)' : 'c_code30_b5_r5_styletransfer',\n",
    "#     'BoN' : 'bon30_facedetector',\n",
    "#     'DPS (Chung 2023)' : 'grad13_styletransfer',\n",
    "#     'Universal Guidance (Bansal, 2024)': 'test'\n",
    "# }"
   ]
  },
  {
   "cell_type": "code",
   "execution_count": 5,
   "metadata": {},
   "outputs": [],
   "source": [
    "from PIL import Image"
   ]
  },
  {
   "cell_type": "code",
   "execution_count": 10,
   "metadata": {},
   "outputs": [],
   "source": [
    "_METHODS_FACE = {\n",
    "    'SDv1.5': 'uncond_facedetector',\n",
    "    'BoN' : 'bon30_facedetector',\n",
    "    'DPS (Chung 2023)' : 'grad500_facedetector',\n",
    "    'Universal Guidance (Bansal, 2024)': 'test_face_20000',\n",
    "    'CoDe (Ours)' : 'code30_b5_facedetector',\n",
    "    'C-CoDe (Ours)' : 'c_code30_b5_r8_facedetector',\n",
    "}\n",
    "\n",
    "ug_face_map = {\n",
    "    'og_img_4' : 'og_img_0',\n",
    "    'og_img_6' : 'og_img_1',\n",
    "    'og_img_8' : 'og_img_2',\n",
    "}\n",
    "\n",
    "base_path = Path('/home/sayak/Projects/PhD_GuidedDiff/BoN/outputs/cherry_picking')\n",
    "\n",
    "save_path = Path('/home/sayak/Projects/PhD_GuidedDiff/BoN/outputs/plots/facedetector')\n",
    "\n",
    "target_dirs = [x for x in save_path.iterdir() if Path.is_dir(x)]\n",
    "for target_dir in target_dirs:\n",
    "\n",
    "    prompt_dirs = [x for x in target_dir.joinpath('images').iterdir() if Path.is_dir(x)]\n",
    "    for prompt_dir in prompt_dirs:\n",
    "\n",
    "        fig, ax = plt.subplots(5, 7, figsize=(20,15))\n",
    "\n",
    "        target_path = Path('/home/sayak/Projects/PhD_GuidedDiff/BoN/assets/face_data/celeb')\n",
    "        target = Image.open(target_path.joinpath(f'{target_dir.stem}.png'))\n",
    "        ax[0][0].set_title('target')\n",
    "        ax[0][0].imshow(target)\n",
    "        ax[0][0].axis('off')\n",
    "        for i in range(4):\n",
    "            ax[i+1][0].axis('off')\n",
    "\n",
    "        for j, method in enumerate(_METHODS_FACE.keys()):\n",
    "\n",
    "            curr_target = ug_face_map[target_dir.stem] if 'Universal' in method else target_dir.stem\n",
    "            \n",
    "            img_path = base_path.joinpath(_METHODS_FACE[method]).joinpath(curr_target).joinpath('images').joinpath(prompt_dir.stem)\n",
    "            if not Path.exists(img_path):\n",
    "                for i in range(5):\n",
    "                    ax[i][j+1].axis('off')\n",
    "                    if i == 0:\n",
    "                        ax[i][j+1].set_title(method[:4])\n",
    "\n",
    "                continue\n",
    "\n",
    "            imgs = [x for x in img_path.iterdir() if Path.is_file(x)]\n",
    "            \n",
    "            for i in range(5):\n",
    "                if i < len(imgs):\n",
    "                    ax[i][j+1].imshow(Image.open(imgs[i]))\n",
    "                ax[i][j+1].axis('off')\n",
    "\n",
    "                if i == 0:\n",
    "                    ax[i][j+1].set_title(method)\n",
    "\n",
    "        fig.suptitle(f'{target_dir.stem} : {prompt_dir.stem}')\n",
    "        plt.tight_layout()\n",
    "        # plt.show()\n",
    "\n",
    "        plt_save = save_path.joinpath(target_dir.stem).joinpath('images').joinpath(prompt_dir.stem)\n",
    "        # plt.show()\n",
    "        # print(plt_save)\n",
    "        plt.savefig(plt_save.joinpath('res.png'), dpi=300)\n",
    "        plt.close()\n",
    "\n",
    "    #     break\n",
    "    # break"
   ]
  },
  {
   "cell_type": "code",
   "execution_count": 1,
   "metadata": {},
   "outputs": [],
   "source": [
    "from PIL import Image"
   ]
  },
  {
   "cell_type": "code",
   "execution_count": 2,
   "metadata": {},
   "outputs": [],
   "source": [
    "img = Image.open('/home/sayak/Projects/PhD_GuidedDiff/BoN/assets/face_data/celeb/og_img_9.jpg')\n",
    "img.save('/home/sayak/Projects/PhD_GuidedDiff/BoN/assets/face_data/celeb/og_img_9.png')"
   ]
  },
  {
   "cell_type": "code",
   "execution_count": null,
   "metadata": {},
   "outputs": [],
   "source": []
  }
 ],
 "metadata": {
  "kernelspec": {
   "display_name": "Python 3 (ipykernel)",
   "language": "python",
   "name": "python3"
  }
 },
 "nbformat": 4,
 "nbformat_minor": 2
}
